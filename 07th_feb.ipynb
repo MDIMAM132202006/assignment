{
 "cells": [
  {
   "cell_type": "code",
   "execution_count": 15,
   "id": "3b1c1a6f-8000-4c47-9e5f-5c01c2850ae3",
   "metadata": {},
   "outputs": [
    {
     "name": "stdout",
     "output_type": "stream",
     "text": [
      "Invalid Password\n"
     ]
    }
   ],
   "source": [
    "import re\n",
    "\n",
    "def check_password(password):\n",
    "    if len(password) != 10:\n",
    "        return \"Invalid Password\"\n",
    "    \n",
    "    uppercase_count = 0\n",
    "    lowercase_count = 0\n",
    "    digit_count = 0\n",
    "    special_char_count = 0\n",
    "    \n",
    "    for char in password:\n",
    "        if char.isupper():\n",
    "            uppercase_count += 1\n",
    "        elif char.islower():\n",
    "            lowercase_count += 1\n",
    "        elif char.isdigit():\n",
    "            digit_count += 1\n",
    "        elif re.match(r'[!@#$%^&*(),.?\":{}|<>]', char):\n",
    "            special_char_count += 1\n",
    "    \n",
    "    if uppercase_count >= 2 and lowercase_count >= 2 and digit_count >= 1 and special_char_count >= 3:\n",
    "        return \"Valid Password\"\n",
    "    else:\n",
    "        return \"Invalid Password\"\n",
    "\n",
    "password = \"Abcde123#$\"\n",
    "\n",
    "print(check_password(password))"
   ]
  },
  {
   "cell_type": "code",
   "execution_count": null,
   "id": "a9af72c0-a943-49c0-9773-7dbcaecf3433",
   "metadata": {},
   "outputs": [],
   "source": []
  },
  {
   "cell_type": "code",
   "execution_count": 5,
   "id": "6388ad32-af39-4ab9-9436-cd2a5d115c4a",
   "metadata": {},
   "outputs": [
    {
     "name": "stdout",
     "output_type": "stream",
     "text": [
      "True\n",
      "True\n"
     ]
    }
   ],
   "source": [
    "check_starting_letter = lambda string, letter: string.startswith(letter)\n",
    "print(check_starting_letter(\"apple\", \"a\"))  \n",
    "print(check_starting_letter(\"banana\", \"b\")) \n"
   ]
  },
  {
   "cell_type": "code",
   "execution_count": 6,
   "id": "7ab2c773-9b97-4b6d-a6d5-42c991f8e4c6",
   "metadata": {},
   "outputs": [
    {
     "name": "stdout",
     "output_type": "stream",
     "text": [
      "True\n",
      "False\n"
     ]
    }
   ],
   "source": [
    "check_numeric = lambda string: string.isnumeric()\n",
    "print(check_numeric(\"123\"))  \n",
    "print(check_numeric(\"abc\"))  \n"
   ]
  },
  {
   "cell_type": "code",
   "execution_count": 9,
   "id": "541dd51a-5657-4f76-ab64-509b30c374da",
   "metadata": {},
   "outputs": [
    {
     "name": "stdout",
     "output_type": "stream",
     "text": [
      "[('orange', 80), ('mango', 99), ('grapes', 1000)]\n"
     ]
    }
   ],
   "source": [
    "fruits = [(\"mango\", 99), (\"orange\", 80), (\"grapes\", 1000)]\n",
    "sorted_fruits = sorted(fruits, key=lambda x: x[1])\n",
    "print(sorted_fruits)"
   ]
  },
  {
   "cell_type": "code",
   "execution_count": 10,
   "id": "ff98094e-18de-4c4e-a96c-475f115d9103",
   "metadata": {},
   "outputs": [
    {
     "name": "stdout",
     "output_type": "stream",
     "text": [
      "[1, 4, 9, 16, 25, 36, 49, 64, 81, 100]\n"
     ]
    }
   ],
   "source": [
    "squares = [x**2 for x in range(1, 11)]\n",
    "print(squares)"
   ]
  },
  {
   "cell_type": "code",
   "execution_count": 11,
   "id": "bd095b1a-d1e0-4253-ba6a-0529de142db5",
   "metadata": {},
   "outputs": [
    {
     "name": "stdout",
     "output_type": "stream",
     "text": [
      "[1, 8, 27, 64, 125, 216, 343, 512, 729, 1000]\n"
     ]
    }
   ],
   "source": [
    "cube = [x**3 for x in range(1, 11)]\n",
    "print(cube)"
   ]
  },
  {
   "cell_type": "code",
   "execution_count": 12,
   "id": "261cfa66-311d-45aa-98fa-408890f60e12",
   "metadata": {},
   "outputs": [
    {
     "name": "stdout",
     "output_type": "stream",
     "text": [
      "True\n",
      "False\n"
     ]
    }
   ],
   "source": [
    "check_even = lambda num: num % 2 == 0\n",
    "print(check_even(4))  \n",
    "print(check_even(5))  "
   ]
  },
  {
   "cell_type": "code",
   "execution_count": 13,
   "id": "7bc12974-a860-4089-aa27-b3dec97eba86",
   "metadata": {},
   "outputs": [
    {
     "name": "stdout",
     "output_type": "stream",
     "text": [
      "[1, 3, 5, 7, 9]\n"
     ]
    }
   ],
   "source": [
    "numbers = [1, 2, 3, 4, 5, 6, 7, 8, 9, 10]\n",
    "odd_numbers = list(filter(lambda x: x % 2 != 0, numbers))\n",
    "print(odd_numbers)"
   ]
  },
  {
   "cell_type": "code",
   "execution_count": 14,
   "id": "9b162744-ff0d-46c4-8a69-6be0f4785510",
   "metadata": {},
   "outputs": [
    {
     "name": "stdout",
     "output_type": "stream",
     "text": [
      "[1, 2, 3, 4, 5, 6]\n",
      "[-5, -4, -3, -2, -1]\n"
     ]
    }
   ],
   "source": [
    "numbers = [1, 2, 3, 4, 5, 6, -1, -2, -3, -4, -5, 0]\n",
    "positive_numbers = sorted(filter(lambda x: x > 0, numbers))\n",
    "negative_numbers = sorted(filter(lambda x: x < 0, numbers))\n",
    "print(positive_numbers)\n",
    "print(negative_numbers)"
   ]
  },
  {
   "cell_type": "code",
   "execution_count": null,
   "id": "a602bb28-4f9e-4fdd-860c-97d8847da0f0",
   "metadata": {},
   "outputs": [],
   "source": []
  }
 ],
 "metadata": {
  "kernelspec": {
   "display_name": "Python 3 (ipykernel)",
   "language": "python",
   "name": "python3"
  },
  "language_info": {
   "codemirror_mode": {
    "name": "ipython",
    "version": 3
   },
   "file_extension": ".py",
   "mimetype": "text/x-python",
   "name": "python",
   "nbconvert_exporter": "python",
   "pygments_lexer": "ipython3",
   "version": "3.10.8"
  }
 },
 "nbformat": 4,
 "nbformat_minor": 5
}
