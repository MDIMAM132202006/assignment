{
 "cells": [
  {
   "cell_type": "markdown",
   "id": "3cb42830-8eca-441b-8279-e0dddb17802c",
   "metadata": {},
   "source": [
    "1. Who developed Python Programming Language?\n",
    "\n",
    "ans: Python was created by Guido van Rossum, and first released on February 20, 1991."
   ]
  },
  {
   "cell_type": "markdown",
   "id": "76f392c2-e206-4a5b-9190-c48781a71b8d",
   "metadata": {},
   "source": [
    "2. Which type of Programming does Python support? \n",
    "\n",
    "ans: Python is an interpreted programming language, supporting object-oriented, structured, and functional programming."
   ]
  },
  {
   "cell_type": "markdown",
   "id": "391dc217-0a22-4764-ada1-44c5237884e5",
   "metadata": {},
   "source": [
    "3. Is Python case sensitive when dealing with identifiers? \n",
    "\n",
    "ans: Yes, Python is a case-sensitive language."
   ]
  },
  {
   "cell_type": "markdown",
   "id": "58808881-7532-4322-beaf-ce0a91570f27",
   "metadata": {},
   "source": [
    "4. What is the correct extension of the Python file? \n",
    "\n",
    "ans: The extensions for Python files are - . py, . pyi "
   ]
  },
  {
   "cell_type": "markdown",
   "id": "7535d966-5f5e-4858-9b8d-aa132971e53b",
   "metadata": {},
   "source": [
    "5. Is Python code compiled or interpreted? \n",
    "\n",
    "ans: Python is both compiled as well as an interpreted language, which means when we run a python code, it is first compiled and then interpreted line by line."
   ]
  },
  {
   "cell_type": "markdown",
   "id": "08adcb04-7460-46e7-bc18-e952d607450e",
   "metadata": {},
   "source": [
    "6. Name a few blocks of code used to define in Python language? \n",
    "\n",
    "ans: A block is a piece of Python program text that is executed as a unit. The following are blocks: a module, a function body, and a class definition."
   ]
  },
  {
   "cell_type": "markdown",
   "id": "ede73c4e-1aeb-404a-960c-3ad196181d34",
   "metadata": {},
   "source": [
    "7. State a character used to give single-line comments in Python? \n",
    "\n",
    "ans: Comments in Python are identified with a hash symbol, # ."
   ]
  },
  {
   "cell_type": "markdown",
   "id": "725484e3-66d2-4a16-a216-09ff62401c7d",
   "metadata": {},
   "source": [
    "8. Mention functions which can help us to find the version of python that we are currently working on? \n",
    "\n",
    "ans: You can use the built-in 'sys.version' method to check the version of Python that is currently being used.\n",
    "You can check the version of Python installed on your system using Python code by using platform.python_version()."
   ]
  },
  {
   "cell_type": "code",
   "execution_count": 7,
   "id": "ee09fb5c-12bf-47af-be29-702a032f8609",
   "metadata": {},
   "outputs": [
    {
     "name": "stdout",
     "output_type": "stream",
     "text": [
      "3.10.8\n",
      "3.10.8 | packaged by conda-forge | (main, Nov 22 2022, 08:26:04) [GCC 10.4.0]\n"
     ]
    }
   ],
   "source": [
    "import platform\n",
    "import sys\n",
    "print(platform.python_version())\n",
    "print(sys.version)"
   ]
  },
  {
   "cell_type": "markdown",
   "id": "09412675-10a3-4c9d-a1a5-08c699bf06ae",
   "metadata": {},
   "source": [
    "9. Python supports the creation of anonymous functions at runtime, using a construct called \n",
    "\n",
    "ans: Python supports the creation of anonymous functions (i.e. functions that are not bound to a name) at runtime, using a construct called lambda."
   ]
  },
  {
   "cell_type": "markdown",
   "id": "fb708319-09d3-4ab7-9138-8c9242b215d3",
   "metadata": {},
   "source": [
    "10. What does pip stand for python? \n",
    "\n",
    "ans: “Preferred Installer Program”"
   ]
  },
  {
   "cell_type": "markdown",
   "id": "cc0f4077-b6eb-4be9-8859-888287ab8f57",
   "metadata": {},
   "source": [
    "11. Mention a few built-in functions in python? \n",
    "\n",
    "ans: print()\tprint(\"Hello, World!\")\t  Prints output to the console\n",
    "     len()\t    len(\"Python\")\t          Returns the length of a string\n",
    "     range()\trange(0, 10)\t          Generates a range of integers from 0 to 9\n",
    "     str()\t    str(123)\t              Converts the integer value to a string\n",
    "     int()\t    int(\"123\")\t              Converts the string value to an integer\n",
    "     float()\tfloat(123)\t              Converts the integer value to a floating-point number\n",
    "     max()\t    max(1, 2, 3, 4, 5)\t      Returns the maximum value in the list of numbers\n",
    "     min()\t    min(1, 2, 3, 4, 5)\t      Returns the minimum value in the list of numbers"
   ]
  },
  {
   "cell_type": "markdown",
   "id": "fcda415e-d418-4159-ab93-492fc9819603",
   "metadata": {},
   "source": [
    "12. What is the maximum possible length of an identifier in Python? \n",
    "\n",
    "ans:  An identifier can have a maximum length of 79 characters in Python."
   ]
  },
  {
   "cell_type": "markdown",
   "id": "544c6a43-b3e4-4b5f-bbef-0072a8343f07",
   "metadata": {},
   "source": [
    "13. What are the benefits of using Python? \n",
    "\n",
    "ans: simple to read\n",
    "     extensive library\n",
    "     free and open source\n",
    "     dynamically typed  etc\n",
    "     "
   ]
  },
  {
   "cell_type": "markdown",
   "id": "adaa064d-0b86-4d01-b4ad-0c5baea304b4",
   "metadata": {},
   "source": [
    "14. How is memory managed in Python? \n",
    "\n",
    "ans: Memory management in Python involves a private heap containing all Python objects and data structures. The management of this private heap is ensured internally by the Python memory manager."
   ]
  },
  {
   "cell_type": "markdown",
   "id": "4937a2f7-5e9d-46c6-8966-82059162c454",
   "metadata": {},
   "source": [
    "15. How to install Python on Windows and set path variables? \n",
    "\n",
    "ans:\n",
    "    1. First, we must find the directory where we installed Python. A typical installation would have the following path,      C:\\Users\\MyUserName\\AppData\\Local\\Programs\\Python\\Python310\n",
    "\n",
    "    2.  Now, we will need to add this to the PATH variable, we right click on \"This PC\" and go to \"Properties\".\n",
    "\n",
    "    3. Then, we click on the \"Advanced system settings\" in the menu on the left.going\n",
    "\n",
    "    4. In the bottom right, we can see a button labeled \"Environment Variables\". We will click on it to open another window to edit these variables.\n",
    "\n",
    "    5.Now, we select the \"Path variable\" in the \"System variables\" section and click \"Edit\". The next screen will show all the directories currently part of the PATH variable.\n",
    "\n",
    "    6.Another window opens up where we can see all the paths for the currently configured system variables. To add a new path for our Python program, we will click on the \"New\" button on the right side and paste the path in Step 1\n",
    "\n",
    "    7.We have successfully added the path for our Python program to our system's environment variables. The best practice is to restart the system afterward for the change to occur.\n",
    "\n",
    "    8.Now, we can verify if the PATH variable was configured correctly by opening up the terminal and entering the command python --version."
   ]
  },
  {
   "cell_type": "markdown",
   "id": "d6b3d60c-a560-480b-96cf-ef8b702516a9",
   "metadata": {},
   "source": [
    "16. Is indentation required in python? \n",
    "\n",
    "ans: ndentation is a very important concept of Python because without properly indenting the Python code, you will end up seeing IndentationError and the code will not get compiled."
   ]
  }
 ],
 "metadata": {
  "kernelspec": {
   "display_name": "Python 3 (ipykernel)",
   "language": "python",
   "name": "python3"
  },
  "language_info": {
   "codemirror_mode": {
    "name": "ipython",
    "version": 3
   },
   "file_extension": ".py",
   "mimetype": "text/x-python",
   "name": "python",
   "nbconvert_exporter": "python",
   "pygments_lexer": "ipython3",
   "version": "3.10.8"
  }
 },
 "nbformat": 4,
 "nbformat_minor": 5
}
