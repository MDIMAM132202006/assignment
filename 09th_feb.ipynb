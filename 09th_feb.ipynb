{
 "cells": [
  {
   "cell_type": "markdown",
   "id": "3a571624-1178-4932-8887-2972878d0010",
   "metadata": {},
   "source": [
    "Q1 Create a vehicle class with an init method having instance variables as name_of_vehicle, max_speed\n",
    "and average_of_vehicle."
   ]
  },
  {
   "cell_type": "code",
   "execution_count": 8,
   "id": "e6294426-09ee-44f9-ba9c-36371143362e",
   "metadata": {},
   "outputs": [],
   "source": [
    "class Vehicle:\n",
    "    def __init__(self, name_of_vehicle, max_speed, average_speed):\n",
    "        self.name_of_vehicle = name_of_vehicle\n",
    "        self.max_speed = max_speed\n",
    "        self.average_speed = average_speed\n",
    "\n",
    "car = Vehicle(\"Car\", 200, 80)"
   ]
  },
  {
   "cell_type": "markdown",
   "id": "3bac2430-396c-4437-9ca5-5446e8cec6b2",
   "metadata": {},
   "source": [
    "Q2. Create a child class car from the vehicle class created in Que 1, which will inherit the vehicle class.\n",
    "Create a method named seating_capacity which takes capacity as an argument and returns the name of\n",
    "the vehicle and its seating capacity."
   ]
  },
  {
   "cell_type": "code",
   "execution_count": 12,
   "id": "2948e0d2-f3e4-4c52-89e0-a633e304371a",
   "metadata": {},
   "outputs": [
    {
     "name": "stdout",
     "output_type": "stream",
     "text": [
      "Sedan Car - Max Speed: 180 km/h, Average Speed: 60 km/h\n",
      "Sedan Car has a seating capacity of 5 people.\n"
     ]
    }
   ],
   "source": [
    "class Vehicle:\n",
    "    def __init__(self, name_of_vehicle, max_speed, average_speed):\n",
    "        self.name_of_vehicle = name_of_vehicle\n",
    "        self.max_speed = max_speed\n",
    "        self.average_speed = average_speed\n",
    "\n",
    "class Car(Vehicle):\n",
    "    def __init__(self, name_of_vehicle, max_speed, average_speed):\n",
    "        super().__init__(name_of_vehicle, max_speed, average_speed)\n",
    "\n",
    "    def seating_capacity(self, capacity):\n",
    "        return f\"{self.name_of_vehicle} has a seating capacity of {capacity} people.\"\n",
    "\n",
    "car = Car(\"Sedan Car\", 180, 60)\n",
    "\n",
    "print(f\"{car.name_of_vehicle} - Max Speed: {car.max_speed} km/h, Average Speed: {car.average_speed} km/h\")\n",
    "print(car.seating_capacity(5)) "
   ]
  },
  {
   "cell_type": "markdown",
   "id": "8ace3363-8bfd-46e4-91ad-42f016ae2e99",
   "metadata": {},
   "source": [
    "Q3. What is multiple inheritance? Write a python code to demonstrate multiple inheritance.\n",
    "\n",
    "ans : Multiple inheritance is a feature in object-oriented programming where a class can inherit attributes and methods from more than one parent class. This means that a subclass can inherit features from multiple superclasses, allowing for code reuse and creating complex class hierarchies"
   ]
  },
  {
   "cell_type": "code",
   "execution_count": 14,
   "id": "5e78875e-bf7d-4a57-9de6-1e562094b6b8",
   "metadata": {},
   "outputs": [
    {
     "name": "stdout",
     "output_type": "stream",
     "text": [
      "Parent1\n",
      "Parent2\n",
      "Child\n"
     ]
    }
   ],
   "source": [
    "class Parent1:\n",
    "    def method1(self):\n",
    "        print(\"Parent1\")\n",
    "\n",
    "class Parent2:\n",
    "    def method2(self):\n",
    "        print(\"Parent2\")\n",
    "\n",
    "class Child(Parent1, Parent2):\n",
    "    def method3(self):\n",
    "        print(\"Child\")\n",
    "\n",
    "\n",
    "child_obj = Child()\n",
    "\n",
    "child_obj.method1()  \n",
    "child_obj.method2()  \n",
    "child_obj.method3() \n"
   ]
  },
  {
   "cell_type": "markdown",
   "id": "44d74ddc-7899-4457-be36-a4e683f1844b",
   "metadata": {},
   "source": [
    "Q4. What are getter and setter in python? Create a class and create a getter and a setter method in this\n",
    "class.\n",
    "\n",
    "ans : In Python, getters and setters are methods used to control access to the attributes (instance variables) of a class. They allow you to encapsulate the internal representation of an object and provide controlled ways to retrieve and modify its values.\n",
    "\n",
    "Getter: A getter method is used to retrieve the value of an attribute. It provides controlled read access to the attribute.\n",
    "\n",
    "Setter: A setter method is used to modify the value of an attribute. It provides controlled write access to the attribute, allowing you to validate or perform actions before setting the value."
   ]
  },
  {
   "cell_type": "code",
   "execution_count": 2,
   "id": "be7e1502-4409-4c69-8131-9a4e5a6ab164",
   "metadata": {},
   "outputs": [
    {
     "name": "stdout",
     "output_type": "stream",
     "text": [
      "Original Name: Alice\n",
      "Updated Name: Bob\n"
     ]
    }
   ],
   "source": [
    "class Person:\n",
    "    def __init__(self, name):\n",
    "        self._name = name  \n",
    "    \n",
    "    def get_name(self):\n",
    "        return self._name\n",
    "\n",
    "   \n",
    "    def set_name(self, name):\n",
    "        self._name = name\n",
    "\n",
    "\n",
    "person = Person(\"Alice\")\n",
    "\n",
    "\n",
    "print(\"Original Name:\", person.get_name())  \n",
    "person.set_name(\"Bob\")\n",
    "print(\"Updated Name:\", person.get_name())   \n",
    "\n"
   ]
  },
  {
   "cell_type": "markdown",
   "id": "9fb43463-e8b1-4a0b-aad2-303c04c0facb",
   "metadata": {},
   "source": [
    "Q5.What is method overriding in python? Write a python code to demonstrate method overriding.\n",
    "\n",
    "ans : Method overriding is a feature in object-oriented programming where a subclass provides a specific implementation for a method that is already defined in its parent class. This allows the subclass to customize or extend the behavior of the inherited method without modifying the original implementation in the parent class."
   ]
  },
  {
   "cell_type": "code",
   "execution_count": 4,
   "id": "1edb4d51-8c74-4dfa-9a65-a15eb16e1589",
   "metadata": {},
   "outputs": [
    {
     "name": "stdout",
     "output_type": "stream",
     "text": [
      "Area of Circle: 78.53975\n"
     ]
    }
   ],
   "source": [
    "class Shape:\n",
    "    def area(self):\n",
    "        return 0  \n",
    "\n",
    "class Circle(Shape):\n",
    "    def __init__(self, radius):\n",
    "        self.radius = radius\n",
    "\n",
    "    def area(self):\n",
    "        return 3.14159 * self.radius * self.radius\n",
    "\n",
    "shape = Shape()\n",
    "circle = Circle(5)\n",
    "\n",
    "print(\"Area of Circle:\", circle.area()) \n"
   ]
  },
  {
   "cell_type": "code",
   "execution_count": null,
   "id": "b8db7ec3-70ef-451d-9435-9a6402a19514",
   "metadata": {},
   "outputs": [],
   "source": []
  }
 ],
 "metadata": {
  "kernelspec": {
   "display_name": "Python 3 (ipykernel)",
   "language": "python",
   "name": "python3"
  },
  "language_info": {
   "codemirror_mode": {
    "name": "ipython",
    "version": 3
   },
   "file_extension": ".py",
   "mimetype": "text/x-python",
   "name": "python",
   "nbconvert_exporter": "python",
   "pygments_lexer": "ipython3",
   "version": "3.10.8"
  }
 },
 "nbformat": 4,
 "nbformat_minor": 5
}
