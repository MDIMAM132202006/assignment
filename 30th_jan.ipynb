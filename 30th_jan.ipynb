{
 "cells": [
  {
   "cell_type": "markdown",
   "id": "8498ad91-d458-4eb0-9e7b-43a101ced519",
   "metadata": {},
   "source": [
    "1. Write a program to accept percentage from the user and display the grade according to the following\n",
    "    Marks        Grade \n",
    "     >90           A \n",
    " >80 and <=90      B \n",
    ">=60 and <=80      C \n",
    "   below 60        D "
   ]
  },
  {
   "cell_type": "code",
   "execution_count": 5,
   "id": "94afde14-8ace-4ae5-8639-d43ca902c57e",
   "metadata": {},
   "outputs": [
    {
     "name": "stdin",
     "output_type": "stream",
     "text": [
      "enter the percentage:  67\n"
     ]
    },
    {
     "name": "stdout",
     "output_type": "stream",
     "text": [
      "C\n"
     ]
    }
   ],
   "source": [
    "percentage = int(input(\"enter the percentage: \" ))\n",
    "\n",
    "                 \n",
    "if percentage > 90 :\n",
    "    print (\"A\")\n",
    "elif 80 < percentage <= 90 :\n",
    "    print(\"B\")\n",
    "elif (60 <= percentage <= 80):\n",
    "    print(\"C\")\n",
    "else :\n",
    "    print(\"D\")\n",
    "                 \n",
    "            "
   ]
  },
  {
   "cell_type": "code",
   "execution_count": 7,
   "id": "c2508a31-4ac5-4741-8cfe-2ebc54342d04",
   "metadata": {},
   "outputs": [
    {
     "name": "stdin",
     "output_type": "stream",
     "text": [
      "enter cost price of the bike:  70000\n"
     ]
    },
    {
     "name": "stdout",
     "output_type": "stream",
     "text": [
      "tax to be paid:  7000.0\n"
     ]
    }
   ],
   "source": [
    "CP = int(input(\"enter cost price of the bike: \"))\n",
    "\n",
    "if CP > 100000:\n",
    "    print(\"tax to be paid: \" , .15*CP)\n",
    "elif (50000 < CP <= 100000) :\n",
    "    print(\"tax to be paid: \" ,  0.1*CP)\n",
    "else:\n",
    "     print(\"tax to be paid: \" ,  0.05*CP)"
   ]
  },
  {
   "cell_type": "code",
   "execution_count": 11,
   "id": "798dc8ed-f2ad-4f5b-b70a-b9241126901d",
   "metadata": {},
   "outputs": [
    {
     "name": "stdin",
     "output_type": "stream",
     "text": [
      "enter the name of the city:  Delhi\n"
     ]
    },
    {
     "name": "stdout",
     "output_type": "stream",
     "text": [
      "Red Fort\n"
     ]
    }
   ],
   "source": [
    "city = str(input(\"enter the name of the city: \"))\n",
    "\n",
    "if city == \"Delhi\" :\n",
    "    print(\"Red Fort\")\n",
    "elif city == \"Agra\" :\n",
    "    print(\"Taj Mahal\")\n",
    "elif city == \"Jaipur\" :\n",
    "    print(\"Jal Mahal\")"
   ]
  },
  {
   "cell_type": "code",
   "execution_count": 19,
   "id": "0edc99fc-b105-49ad-85d0-143bbd632840",
   "metadata": {},
   "outputs": [
    {
     "name": "stdin",
     "output_type": "stream",
     "text": [
      "enter the number:  100\n"
     ]
    },
    {
     "name": "stdout",
     "output_type": "stream",
     "text": [
      "The number 100 can be divided by 3, 3 times before it is less than or equal to 10.\n"
     ]
    }
   ],
   "source": [
    "def count_divisions_by_3(number):\n",
    "    count = 0\n",
    "    while number > 10:\n",
    "        number /= 3\n",
    "        count += 1\n",
    "    return count\n",
    "\n",
    "given_number = int(input(\"enter the number: \"))\n",
    "result = count_divisions_by_3(given_number)\n",
    "print(f\"The number {given_number} can be divided by 3, {result} times before it is less than or equal to 10.\")\n"
   ]
  },
  {
   "cell_type": "markdown",
   "id": "babd4f3e-0e52-4fd7-b782-3e22c7191ddc",
   "metadata": {},
   "source": [
    "5. Why and When to Use while Loop in Python give a detailed description with example\n",
    "\n",
    "ans: The while loop in Python is used when you want to execute a block of code repeatedly as long as a given condition is true. It allows you to create a loop that keeps running until the specified condition becomes false. while loops are particularly useful when you don't know in advance how many times the loop needs to run, and you want the loop to continue until a certain condition is met."
   ]
  },
  {
   "cell_type": "code",
   "execution_count": 20,
   "id": "0b77000a-3d3c-4940-a20a-560f2a970b72",
   "metadata": {},
   "outputs": [
    {
     "name": "stdout",
     "output_type": "stream",
     "text": [
      "Sum of numbers from 1 to 10: 55\n"
     ]
    }
   ],
   "source": [
    "total = 0\n",
    "current_number = 1\n",
    "\n",
    "while current_number <= 10:\n",
    "    total += current_number\n",
    "    current_number += 1\n",
    "\n",
    "print(\"Sum of numbers from 1 to 10:\", total)\n"
   ]
  },
  {
   "cell_type": "markdown",
   "id": "7a7528a9-03c1-46d1-81c5-7d54236dfea0",
   "metadata": {},
   "source": [
    "6. Use nested while loop to print 3 different pattern. \n"
   ]
  },
  {
   "cell_type": "code",
   "execution_count": 21,
   "id": "c0743881-e78c-4e3e-9bd4-437ede60028a",
   "metadata": {},
   "outputs": [
    {
     "name": "stdout",
     "output_type": "stream",
     "text": [
      "*\n",
      "**\n",
      "***\n",
      "****\n",
      "*****\n"
     ]
    }
   ],
   "source": [
    "n = 5\n",
    "i = 1\n",
    "while i <= n:\n",
    "    j = 1\n",
    "    while j <= i:\n",
    "        print(\"*\", end=\"\")\n",
    "        j += 1\n",
    "    print()\n",
    "    i += 1"
   ]
  },
  {
   "cell_type": "code",
   "execution_count": 22,
   "id": "69a81b29-ba4f-427f-a7cb-0dbc0dc5813d",
   "metadata": {},
   "outputs": [
    {
     "name": "stdout",
     "output_type": "stream",
     "text": [
      "    *\n",
      "   ***\n",
      "  *****\n",
      " *******\n",
      "*********\n"
     ]
    }
   ],
   "source": [
    "n = 5\n",
    "i = 1\n",
    "while i <= n:\n",
    "    j = 1\n",
    "    while j <= n - i:\n",
    "        print(\" \", end=\"\")\n",
    "        j += 1\n",
    "    j = 1\n",
    "    while j <= 2 * i - 1:\n",
    "        print(\"*\", end=\"\")\n",
    "        j += 1\n",
    "    print()\n",
    "    i += 1"
   ]
  },
  {
   "cell_type": "code",
   "execution_count": 23,
   "id": "205ea193-6a97-4c59-b249-e0cd953200cb",
   "metadata": {},
   "outputs": [
    {
     "name": "stdout",
     "output_type": "stream",
     "text": [
      "*****\n",
      "****\n",
      "***\n",
      "**\n",
      "*\n"
     ]
    }
   ],
   "source": [
    "n = 5\n",
    "i = n\n",
    "while i >= 1:\n",
    "    j = 1\n",
    "    while j <= i:\n",
    "        print(\"*\", end=\"\")\n",
    "        j += 1\n",
    "    print()\n",
    "    i -= 1"
   ]
  },
  {
   "cell_type": "markdown",
   "id": "4bb58138-6551-48ea-903a-9c326e356308",
   "metadata": {},
   "source": [
    "7. Reverse a while loop to display numbers from 10 to 1. \n"
   ]
  },
  {
   "cell_type": "code",
   "execution_count": 26,
   "id": "8a8bcb7e-fff2-4258-b958-2a88aa10b695",
   "metadata": {},
   "outputs": [
    {
     "name": "stdout",
     "output_type": "stream",
     "text": [
      "10\n",
      "9\n",
      "8\n",
      "7\n",
      "6\n",
      "5\n",
      "4\n",
      "3\n",
      "2\n",
      "1\n"
     ]
    }
   ],
   "source": [
    "n = 10\n",
    "i = 0\n",
    "while i < n :\n",
    "    print(n-i)\n",
    "    i += 1\n"
   ]
  },
  {
   "cell_type": "code",
   "execution_count": null,
   "id": "5b970596-0e6e-463e-a7e5-1c3da14d0c03",
   "metadata": {},
   "outputs": [],
   "source": []
  }
 ],
 "metadata": {
  "kernelspec": {
   "display_name": "Python 3 (ipykernel)",
   "language": "python",
   "name": "python3"
  },
  "language_info": {
   "codemirror_mode": {
    "name": "ipython",
    "version": 3
   },
   "file_extension": ".py",
   "mimetype": "text/x-python",
   "name": "python",
   "nbconvert_exporter": "python",
   "pygments_lexer": "ipython3",
   "version": "3.10.8"
  }
 },
 "nbformat": 4,
 "nbformat_minor": 5
}
