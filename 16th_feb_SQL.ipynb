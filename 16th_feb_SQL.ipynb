{
 "cells": [
  {
   "cell_type": "markdown",
   "id": "a38f7cf2-0db0-4b58-9107-5aa906a9db75",
   "metadata": {},
   "source": [
    "Q1. What is a database? Differentiate between SQL and NoSQL databases.\n",
    "\n",
    "ans : A database is a structured collection of data that is organized, stored, and managed for efficient retrieval and manipulation. It serves as a central repository for various types of data, allowing users and applications to interact with it for tasks such as querying, inserting, updating, and deleting information.\n",
    "\n",
    "Data Structure: SQL databases use structured, tabular data, while NoSQL databases can use diverse data models, offering more flexibility in accommodating different data formats.\n",
    "Schema: SQL databases have a fixed schema, while NoSQL databases can have dynamic or no schemas, allowing for easier adaptability to changing data requirements.\n",
    "Query Language: SQL databases use the standardized SQL query language, while NoSQL databases use various query languages or APIs specific to their data models.\n",
    "Scalability: NoSQL databases are often designed for better horizontal scalability and can handle large volumes of data across distributed systems more efficiently than traditional SQL databases.\n",
    "Use Cases: SQL databases are suitable for applications with structured and well-defined data, such as financial systems. NoSQL databases are often used for applications with rapidly changing, unstructured, or semi-structured data, such as social media platforms or real-time analytics."
   ]
  },
  {
   "cell_type": "markdown",
   "id": "4e4ec131-1239-4085-935e-f134f136a425",
   "metadata": {},
   "source": [
    "Q2. What is DDL? Explain why CREATE, DROP, ALTER, and TRUNCATE are used with an example.\n",
    "\n",
    "ans : DDL stands for \"Data Definition Language,\" which is a subset of SQL (Structured Query Language) used to define and manage the structure of a database and its objects, such as tables, indexes, and constraints. DDL statements are responsible for creating, modifying, and deleting the structural elements of a database\n",
    "\n",
    "CREATE:\n",
    "The CREATE statement is used to create new database objects, such as tables, indexes, or views.\n",
    "\n",
    "DROP:\n",
    "The DROP statement is used to delete existing database objects, such as tables or indexes.\n",
    "\n",
    "ALTER:\n",
    "The ALTER statement is used to modify existing database objects. It can be used to add, modify, or delete columns, constraints, or other properties of a table.\n",
    "\n",
    "TRUNCATE:\n",
    "The TRUNCATE statement is used to remove all rows from a table quickly, effectively resetting the table to its original state.\n",
    "\n"
   ]
  },
  {
   "cell_type": "markdown",
   "id": "6e174465-8dd2-44de-b01f-084f772f51cf",
   "metadata": {},
   "source": [
    "Q3. What is DML? Explain INSERT, UPDATE, and DELETE with an example.\n",
    "\n",
    "ans : DML stands for \"Data Manipulation Language,\" which is a subset of SQL (Structured Query Language) used to manipulate and operate on the data stored within a database. DML statements are responsible for inserting, updating, and deleting data within tables.\n",
    "\n",
    "INSERT:\n",
    "The INSERT statement is used to add new records or rows into a table.\n",
    "\n",
    "UPDATE:\n",
    "The UPDATE statement is used to modify existing records in a table.\n",
    "\n",
    "DELETE:\n",
    "The DELETE statement is used to remove records from a table."
   ]
  },
  {
   "cell_type": "markdown",
   "id": "359de186-e281-4513-9d47-1786c2cd5378",
   "metadata": {},
   "source": [
    "Q4. What is DQL? Explain SELECT with an example.\n",
    "\n",
    "ans : DQL stands for \"Data Query Language,\" which is a subset of SQL (Structured Query Language) used to retrieve and query data from a database. The primary DQL statement is the SELECT statement, which allows you to retrieve specific data from one or more tables based on certain conditions.\n",
    "\n",
    "SELECT:\n",
    "The SELECT statement is used to query and retrieve data from a database. It allows you to specify which columns to retrieve, the table(s) to query, conditions to filter data, and various other options."
   ]
  },
  {
   "cell_type": "markdown",
   "id": "7355c51f-136b-437b-811a-049e5ffab3df",
   "metadata": {},
   "source": [
    "Q5. Explain Primary Key and Foreign Key.\n",
    "\n",
    "ans : Primary Key:\n",
    "A primary key is a column or a set of columns in a database table that uniquely identifies each row in that table. It ensures that each row has a distinct and non-null identifier, which helps in data integrity and efficient retrieval. Primary keys are used as a reference point for linking data between tables and are crucial for maintaining the uniqueness and integrity of the data.\n",
    "\n",
    "Foreign Key:\n",
    "A foreign key is a column or set of columns in a database table that establishes a link or relationship between the data in two tables. It refers to the primary key of another table and is used to maintain data integrity and enforce referential integrity between related tables. The foreign key constraint ensures that values in the foreign key column(s) match values in the primary key column(s) of the referenced table."
   ]
  }
 ],
 "metadata": {
  "kernelspec": {
   "display_name": "Python 3 (ipykernel)",
   "language": "python",
   "name": "python3"
  },
  "language_info": {
   "codemirror_mode": {
    "name": "ipython",
    "version": 3
   },
   "file_extension": ".py",
   "mimetype": "text/x-python",
   "name": "python",
   "nbconvert_exporter": "python",
   "pygments_lexer": "ipython3",
   "version": "3.10.8"
  }
 },
 "nbformat": 4,
 "nbformat_minor": 5
}
