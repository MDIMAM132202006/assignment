{
 "cells": [
  {
   "cell_type": "markdown",
   "id": "6e2a9fda-30e5-4b60-b814-09ffc1f039a7",
   "metadata": {},
   "source": [
    "Q1. Which function is used to open a file? What are the different modes of opening a file? Explain each mode\n",
    "of file opening.\n",
    "\n",
    "ans : The open() function takes two main arguments: the path to the file you want to open and the mode in which you want to open the file.\n",
    "\n",
    "The different modes for opening a file are:\n",
    "\n",
    "\"r\" (Read): This is the default mode. It opens the file for reading. If the file does not exist or cannot be opened, an error occurs.\n",
    "\n",
    "\"w\" (Write): This mode opens the file for writing. If the file already exists, it truncates (empties) its contents. If the file does not exist, a new empty file is created. Be cautious with this mode, as it will overwrite the content of an existing file without warning.\n",
    "\n",
    "\"a\" (Append): This mode opens the file for writing as well, but it appends new content to the end of the file rather than truncating it. If the file does not exist, a new empty file is created.\n",
    "\n",
    "\"x\" (Exclusive creation): This mode opens the file for writing, but only if the file does not already exist. If the file exists, an error occurs.\n",
    "\n",
    "\"b\" (Binary mode): This mode can be added to any of the above modes to indicate that the file should be treated as a binary file. For example, using \"rb\" would open a file in binary read mode.\n",
    "\n",
    "\"t\" (Text mode): This is the default mode and is used to indicate that the file should be treated as a text file. However, in most modern systems, text mode is the default, and you don't need to explicitly specify it."
   ]
  },
  {
   "cell_type": "markdown",
   "id": "81b7d147-d06b-4a2b-aa4c-da58c7ae81b5",
   "metadata": {},
   "source": [
    "Q2. Why close() function is used? Why is it important to close a file?\n",
    "\n",
    "ans : The close() function is used to explicitly close a file that has been opened using the open() function.\n",
    "\n"
   ]
  },
  {
   "cell_type": "markdown",
   "id": "d79417aa-3782-4d61-a137-9260572d579a",
   "metadata": {},
   "source": [
    "Q3. Write a python program to create a text file. Write ‘I want to become a Data Scientist’ in that file. Then\n",
    "close the file. Open this file and read the content of the file.\n",
    "\n",
    "ans : "
   ]
  },
  {
   "cell_type": "code",
   "execution_count": 2,
   "id": "2a78b22a-19f0-4d51-8d9c-791b158ce136",
   "metadata": {},
   "outputs": [
    {
     "name": "stdout",
     "output_type": "stream",
     "text": [
      "I want to become a Data Scientist\n"
     ]
    }
   ],
   "source": [
    "with open(\"data_scientist.txt\", \"w\") as file:\n",
    "    file.write(\"I want to become a Data Scientist\")\n",
    "\n",
    "with open(\"data_scientist.txt\", \"r\") as file:\n",
    "    content = file.read()\n",
    "    print(content)\n"
   ]
  },
  {
   "cell_type": "markdown",
   "id": "b905d3ea-ad07-4c00-b5cd-e66acac5a6d4",
   "metadata": {},
   "source": [
    "Q4. Explain the following with python code: read(), readline() and readlines().\n",
    "\n",
    "ans : These are three methods used for reading data from files in Python\n",
    "\n",
    "1. read(): The read() method reads the entire content of a file as a single string.\n",
    "\n",
    "\n",
    "2. readline(): The readline() method reads a single line from the file.\n",
    "\n",
    "\n",
    "3. readlines(): The readlines() method reads all lines from the file and returns a list where each element is a line from the file."
   ]
  },
  {
   "cell_type": "markdown",
   "id": "899b0e6a-acdb-4428-854a-71a93ad96a80",
   "metadata": {},
   "source": [
    "Q5. Explain why with statement is used with open(). What is the advantage of using with statement and\n",
    "open() together?\n",
    "\n",
    "ans : It's a good practice to always close files after you're finished using them. However, managing the close() function manually can sometimes be error-prone, especially if your code becomes complex or if exceptions are raised. To help with this, many programming languages, including Python, provide a construct called the with statement that automatically handles the opening and closing of files. When you use the with statement, the file is automatically closed when the block of code within the with statement is exited, regardless of whether an exception occurs."
   ]
  },
  {
   "cell_type": "markdown",
   "id": "65f41d42-aade-479e-8476-4d409989f38b",
   "metadata": {},
   "source": [
    "Q6. Explain the write() and writelines() functions. Give a suitable example.\n",
    "\n",
    "ans : write(): The write() function is used to write a string of characters to a file. It adds the provided string to the end of the file's current content. If the file is opened in write mode and already contains content, using write() will overwrite the existing content.\n",
    "\n",
    "writelines(): The writelines() function is used to write a list of strings to a file. It takes a list as an argument, where each element of the list corresponds to a line of text that you want to write to the file."
   ]
  },
  {
   "cell_type": "code",
   "execution_count": null,
   "id": "c1688758-b627-43d5-91ab-16ea59e04afd",
   "metadata": {},
   "outputs": [],
   "source": []
  }
 ],
 "metadata": {
  "kernelspec": {
   "display_name": "Python 3 (ipykernel)",
   "language": "python",
   "name": "python3"
  },
  "language_info": {
   "codemirror_mode": {
    "name": "ipython",
    "version": 3
   },
   "file_extension": ".py",
   "mimetype": "text/x-python",
   "name": "python",
   "nbconvert_exporter": "python",
   "pygments_lexer": "ipython3",
   "version": "3.10.8"
  }
 },
 "nbformat": 4,
 "nbformat_minor": 5
}
