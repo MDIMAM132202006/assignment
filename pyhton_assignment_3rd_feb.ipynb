{
 "cells": [
  {
   "cell_type": "markdown",
   "id": "d6225e26-34f3-460e-a3d3-367a1fef7dbd",
   "metadata": {},
   "source": [
    "Q1. Which keyword is used to create a function? Create a function to return a list of odd numbers in the\n",
    "range of 1 to 25.\n",
    "\n",
    "ans: def keyword is used to create a function."
   ]
  },
  {
   "cell_type": "code",
   "execution_count": 1,
   "id": "e66bfeff-c211-46af-b50b-b8fe874b6250",
   "metadata": {},
   "outputs": [
    {
     "data": {
      "text/plain": [
       "[1, 3, 5, 7, 9, 11, 13, 15, 17, 19, 21, 23, 25]"
      ]
     },
     "execution_count": 1,
     "metadata": {},
     "output_type": "execute_result"
    }
   ],
   "source": [
    "l = []\n",
    "def odd_numbers(a,b):\n",
    "    for i in range(a,b+1):\n",
    "        if i % 2 != 0 :\n",
    "            l.append(i)\n",
    "    return l\n",
    "\n",
    "odd_numbers(1,25)\n",
    "            \n"
   ]
  },
  {
   "cell_type": "markdown",
   "id": "77598e7e-c918-4164-9b85-ecff5e681658",
   "metadata": {},
   "source": [
    "Q2. Why *args and **kwargs is used in some functions? Create a function each for *args and **kwargs\n",
    "to demonstrate their use.\n",
    "\n",
    "ans: *args allows us to pass any number of argument.\n",
    "**kwargs allows us to pass any number of keyworded argument like dictionary ."
   ]
  },
  {
   "cell_type": "code",
   "execution_count": 27,
   "id": "624f1130-0f23-440a-bcfb-9c4f1c00aaa3",
   "metadata": {},
   "outputs": [
    {
     "data": {
      "text/plain": [
       "('Real',\n",
       " 'courage',\n",
       " 'is',\n",
       " 'doing',\n",
       " 'the',\n",
       " 'right',\n",
       " 'thing',\n",
       " 'when',\n",
       " \"nobody's\",\n",
       " 'looking')"
      ]
     },
     "execution_count": 27,
     "metadata": {},
     "output_type": "execute_result"
    }
   ],
   "source": [
    "def myfunc(*args):\n",
    "    return args\n",
    "myfunc(\"Real\" , \"courage\" , \"is\" , \"doing\" , \"the\" , \"right\" , \"thing\" ,\"when\" , \"nobody's\" , \"looking\")"
   ]
  },
  {
   "cell_type": "code",
   "execution_count": 25,
   "id": "ac3019ef-5514-45d0-93c2-74791e51a53c",
   "metadata": {},
   "outputs": [
    {
     "data": {
      "text/plain": [
       "{'name': 'md tabraiz imam', 'college': 'IIT pkd', 'course': 'MTech MME'}"
      ]
     },
     "execution_count": 25,
     "metadata": {},
     "output_type": "execute_result"
    }
   ],
   "source": [
    "def myfunc(**kwargs):\n",
    "    return kwargs\n",
    "myfunc(name = \"md tabraiz imam\",college = \"IIT pkd\" , course = \"MTech MME\")"
   ]
  },
  {
   "cell_type": "markdown",
   "id": "7b7e2a5e-517a-4edc-a8bb-0b2aaa5c0c27",
   "metadata": {},
   "source": [
    "Q3. What is an iterator in python? Name the method used to initialise the iterator object and the method\n",
    "used for iteration. Use these methods to print the first five elements of the given list [2, 4, 6, 8, 10, 12, 14,\n",
    "16, 18, 20]."
   ]
  },
  {
   "cell_type": "markdown",
   "id": "102a680d-cefb-4956-a0d4-48a34cb97cb1",
   "metadata": {},
   "source": [
    "ans: An iterator is an object that can be iterated upon, meaning that you can traverse through all the values.\n",
    "All these objects have a \"iter()\" method which is used to get an iterator."
   ]
  },
  {
   "cell_type": "code",
   "execution_count": 95,
   "id": "90674856-1fd0-4803-ad7e-bb686895fb60",
   "metadata": {},
   "outputs": [
    {
     "name": "stdout",
     "output_type": "stream",
     "text": [
      "2\n",
      "4\n",
      "6\n",
      "8\n",
      "10\n"
     ]
    }
   ],
   "source": [
    "l = [2,4,6,8,10,12,14,16,18,20]\n",
    "iterator = iter(l)\n",
    "for i in range(0,len(l)) :\n",
    "    if i <= 4:\n",
    "        print(l[i])        \n",
    "        \n",
    "        "
   ]
  },
  {
   "cell_type": "markdown",
   "id": "6568bf68-e5e2-48d4-a375-32607f97d7b9",
   "metadata": {},
   "source": [
    "Q4. What is a generator function in python? Why yield keyword is used? Give an example of a generator\n",
    "function.\n",
    "ans: We use yield when we want to iterate over a sequence, but don't want to store the entire sequence in memory.A generator function is defined just like a normal function, but whenever it needs to generate a value, it does so with the yield keyword rather than return."
   ]
  },
  {
   "cell_type": "code",
   "execution_count": 72,
   "id": "a18a6be0-c596-4e0d-8034-dc4be4531f69",
   "metadata": {},
   "outputs": [
    {
     "name": "stdout",
     "output_type": "stream",
     "text": [
      "1\n",
      "8\n",
      "27\n"
     ]
    }
   ],
   "source": [
    "def Square():\n",
    "\ti = 1\n",
    "\twhile True:\n",
    "\t\tyield i*i*i\n",
    "\t\ti += 1 \n",
    "for num in Square():\n",
    "\tif num > 50:\n",
    "\t\tbreak\n",
    "\tprint(num)\n"
   ]
  },
  {
   "cell_type": "markdown",
   "id": "8675c58c-d820-4e2d-a518-e5380f7f4ba4",
   "metadata": {},
   "source": [
    "Q5. Create a generator function for prime numbers less than 1000. Use the next() method to print the\n",
    "first 20 prime numbers."
   ]
  },
  {
   "cell_type": "code",
   "execution_count": 68,
   "id": "204b6dc3-1b42-491d-a2c9-311e4eae43ef",
   "metadata": {},
   "outputs": [
    {
     "name": "stdin",
     "output_type": "stream",
     "text": [
      "Input the number of prime numbers you want to generate?  20\n"
     ]
    },
    {
     "name": "stdout",
     "output_type": "stream",
     "text": [
      "First 20 Prime numbers:\n",
      "2\n",
      "3\n",
      "5\n",
      "7\n",
      "11\n",
      "13\n",
      "17\n",
      "19\n",
      "23\n",
      "29\n",
      "31\n",
      "37\n",
      "41\n",
      "43\n",
      "47\n",
      "53\n",
      "59\n",
      "61\n",
      "67\n",
      "71\n"
     ]
    }
   ],
   "source": [
    "def is_prime(n):\n",
    "    if n <= 1:\n",
    "        return False\n",
    "    for i in range(2, int(n**0.5) + 1):\n",
    "        if n % i == 0:\n",
    "            return False\n",
    "    return True\n",
    "\n",
    "def prime_nums_generator():\n",
    "    n = 2\n",
    "    while True:\n",
    "        if is_prime(n):\n",
    "            yield n\n",
    "        n += 1\n",
    "primes = prime_nums_generator()\n",
    "n = int(input(\"Input the number of prime numbers you want to generate? \"))\n",
    "\n",
    "print(\"First\",n,\"Prime numbers:\")\n",
    "for i in range(n):\n",
    "    print(next(primes))  "
   ]
  },
  {
   "cell_type": "markdown",
   "id": "6c1869e2-21e2-4647-b536-16f2093e69d0",
   "metadata": {},
   "source": [
    "Q6. Write a python program to print the first 10 Fibonacci numbers using a while loop."
   ]
  },
  {
   "cell_type": "code",
   "execution_count": 40,
   "id": "cb4ab0b4-9831-4560-a0f4-84f513f6f55a",
   "metadata": {},
   "outputs": [
    {
     "name": "stdout",
     "output_type": "stream",
     "text": [
      "1 2 3 5 8 13 21 34 55 89 \n"
     ]
    }
   ],
   "source": [
    "a = 1\n",
    "b = 1\n",
    "next_number = a\n",
    "count = 1\n",
    "\n",
    "while count <= 10:\n",
    "\tprint(next_number, end = \" \")\n",
    "\tcount += 1\n",
    "\ta, b = b, next_number\n",
    "\tnext_number = a + b\n",
    "print()      "
   ]
  },
  {
   "cell_type": "markdown",
   "id": "1dc10ab7-3f40-46b1-96db-330573bcf842",
   "metadata": {},
   "source": [
    "Q7. Write a List Comprehension to iterate through the given string: ‘pwskills’.\n",
    "Expected output: ['p', 'w', 's', 'k', 'i', 'l', 'l', 's']"
   ]
  },
  {
   "cell_type": "code",
   "execution_count": 64,
   "id": "74740163-7385-4452-b29a-bd55871fee79",
   "metadata": {},
   "outputs": [
    {
     "data": {
      "text/plain": [
       "['p', 'w', 's', 'k', 'i', 'l', 'l', 's']"
      ]
     },
     "execution_count": 64,
     "metadata": {},
     "output_type": "execute_result"
    }
   ],
   "source": [
    "s = 'pwskills'\n",
    "l = [character for character in s]\n",
    "l\n"
   ]
  },
  {
   "cell_type": "markdown",
   "id": "cce049b8-fd09-4aa6-9011-a0d569df0943",
   "metadata": {},
   "source": [
    "Q8. Write a python program to check whether a given number is Palindrome or not using a while loop."
   ]
  },
  {
   "cell_type": "code",
   "execution_count": 57,
   "id": "57f2b787-08b5-479f-a5bc-4dc9100baf6b",
   "metadata": {},
   "outputs": [
    {
     "name": "stdin",
     "output_type": "stream",
     "text": [
      "Enter a number: 1234321\n"
     ]
    },
    {
     "name": "stdout",
     "output_type": "stream",
     "text": [
      "The number is palindrome!\n"
     ]
    }
   ],
   "source": [
    "num=int(input(\"Enter a number:\"))\n",
    "temp=num\n",
    "rev=0\n",
    "while(num>0):\n",
    "    remainder=num%10\n",
    "    rev=rev*10+remainder\n",
    "    num=num//10\n",
    "if(temp==rev):\n",
    "    print(\"The number is palindrome!\")\n",
    "else:\n",
    "    print(\"Not a palindrome!\")"
   ]
  },
  {
   "cell_type": "markdown",
   "id": "2d98f145-d5ac-44cc-a779-d7824bfe6bc3",
   "metadata": {},
   "source": [
    "Q9. Write a code to print odd numbers from 1 to 100 using list comprehension."
   ]
  },
  {
   "cell_type": "code",
   "execution_count": 55,
   "id": "08342d48-15b7-41d2-bb1e-5bf359552f1d",
   "metadata": {},
   "outputs": [
    {
     "data": {
      "text/plain": [
       "[1,\n",
       " 3,\n",
       " 5,\n",
       " 7,\n",
       " 9,\n",
       " 11,\n",
       " 13,\n",
       " 15,\n",
       " 17,\n",
       " 19,\n",
       " 21,\n",
       " 23,\n",
       " 25,\n",
       " 27,\n",
       " 29,\n",
       " 31,\n",
       " 33,\n",
       " 35,\n",
       " 37,\n",
       " 39,\n",
       " 41,\n",
       " 43,\n",
       " 45,\n",
       " 47,\n",
       " 49,\n",
       " 51,\n",
       " 53,\n",
       " 55,\n",
       " 57,\n",
       " 59,\n",
       " 61,\n",
       " 63,\n",
       " 65,\n",
       " 67,\n",
       " 69,\n",
       " 71,\n",
       " 73,\n",
       " 75,\n",
       " 77,\n",
       " 79,\n",
       " 81,\n",
       " 83,\n",
       " 85,\n",
       " 87,\n",
       " 89,\n",
       " 91,\n",
       " 93,\n",
       " 95,\n",
       " 97,\n",
       " 99]"
      ]
     },
     "execution_count": 55,
     "metadata": {},
     "output_type": "execute_result"
    }
   ],
   "source": [
    "l = [i for i in range(100) if i > 0]\n",
    "[i for i in l if i % 2 != 0 ]"
   ]
  },
  {
   "cell_type": "code",
   "execution_count": null,
   "id": "04d25c81-9862-4dca-bff5-7a827cbed6ff",
   "metadata": {},
   "outputs": [],
   "source": []
  },
  {
   "cell_type": "code",
   "execution_count": null,
   "id": "a215d07f-05cf-4c24-91d2-d5860750b049",
   "metadata": {},
   "outputs": [],
   "source": []
  }
 ],
 "metadata": {
  "kernelspec": {
   "display_name": "Python 3 (ipykernel)",
   "language": "python",
   "name": "python3"
  },
  "language_info": {
   "codemirror_mode": {
    "name": "ipython",
    "version": 3
   },
   "file_extension": ".py",
   "mimetype": "text/x-python",
   "name": "python",
   "nbconvert_exporter": "python",
   "pygments_lexer": "ipython3",
   "version": "3.10.8"
  }
 },
 "nbformat": 4,
 "nbformat_minor": 5
}
