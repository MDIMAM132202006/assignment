{
 "cells": [
  {
   "cell_type": "code",
   "execution_count": 1,
   "id": "4316ce19-30dc-45b6-a571-efbd27b25150",
   "metadata": {},
   "outputs": [],
   "source": [
    "l = [1,345,45,\"sudh\",True,5+7j,345.345]"
   ]
  },
  {
   "cell_type": "code",
   "execution_count": 2,
   "id": "e45d947d-0f0f-4e0d-a67e-8c85dc7b1141",
   "metadata": {},
   "outputs": [
    {
     "data": {
      "text/plain": [
       "list"
      ]
     },
     "execution_count": 2,
     "metadata": {},
     "output_type": "execute_result"
    }
   ],
   "source": [
    "type(l)"
   ]
  },
  {
   "cell_type": "code",
   "execution_count": 3,
   "id": "21ac0091-1068-4b3e-b9b5-c58e81c06b48",
   "metadata": {},
   "outputs": [
    {
     "data": {
      "text/plain": [
       "1"
      ]
     },
     "execution_count": 3,
     "metadata": {},
     "output_type": "execute_result"
    }
   ],
   "source": [
    "l[0]"
   ]
  },
  {
   "cell_type": "code",
   "execution_count": 4,
   "id": "251d99d6-3853-4cc0-bcb2-62c7ddce65ab",
   "metadata": {},
   "outputs": [
    {
     "data": {
      "text/plain": [
       "[1, 345, 45, 'sudh', True]"
      ]
     },
     "execution_count": 4,
     "metadata": {},
     "output_type": "execute_result"
    }
   ],
   "source": [
    "l[0:5]"
   ]
  },
  {
   "cell_type": "code",
   "execution_count": 5,
   "id": "cfe8a482-5bb3-4c45-aa44-e7d9865b5336",
   "metadata": {},
   "outputs": [
    {
     "data": {
      "text/plain": [
       "[1, 345, 45, 'sudh', True, (5+7j), 345.345]"
      ]
     },
     "execution_count": 5,
     "metadata": {},
     "output_type": "execute_result"
    }
   ],
   "source": [
    "l"
   ]
  },
  {
   "cell_type": "code",
   "execution_count": 6,
   "id": "1323ab95-6c39-4e97-b183-3fc63984ad97",
   "metadata": {},
   "outputs": [
    {
     "data": {
      "text/plain": [
       "[1, 345, 45]"
      ]
     },
     "execution_count": 6,
     "metadata": {},
     "output_type": "execute_result"
    }
   ],
   "source": [
    "l[0:3]"
   ]
  },
  {
   "cell_type": "code",
   "execution_count": 7,
   "id": "519f10e9-b1f2-45f6-9517-6e98d38e40d4",
   "metadata": {},
   "outputs": [
    {
     "data": {
      "text/plain": [
       "345.345"
      ]
     },
     "execution_count": 7,
     "metadata": {},
     "output_type": "execute_result"
    }
   ],
   "source": [
    "l[-1]"
   ]
  },
  {
   "cell_type": "code",
   "execution_count": 8,
   "id": "0a6b235e-7b72-412a-87f2-52b6f6430676",
   "metadata": {},
   "outputs": [
    {
     "data": {
      "text/plain": [
       "[345.345, (5+7j), True, 'sudh', 45, 345, 1]"
      ]
     },
     "execution_count": 8,
     "metadata": {},
     "output_type": "execute_result"
    }
   ],
   "source": [
    "l[::-1]"
   ]
  },
  {
   "cell_type": "code",
   "execution_count": 9,
   "id": "530e4f4b-9f03-43b3-ac21-23c2fd029118",
   "metadata": {},
   "outputs": [
    {
     "data": {
      "text/plain": [
       "[1, 345, 45, 'sudh', True, (5+7j), 345.345]"
      ]
     },
     "execution_count": 9,
     "metadata": {},
     "output_type": "execute_result"
    }
   ],
   "source": [
    "l"
   ]
  },
  {
   "cell_type": "code",
   "execution_count": 10,
   "id": "07ff21e0-a696-424a-b387-7202c0ef0cb1",
   "metadata": {},
   "outputs": [
    {
     "data": {
      "text/plain": [
       "[1, 45, True, 345.345]"
      ]
     },
     "execution_count": 10,
     "metadata": {},
     "output_type": "execute_result"
    }
   ],
   "source": [
    "l[::2]"
   ]
  },
  {
   "cell_type": "code",
   "execution_count": 11,
   "id": "aae078a4-6507-4884-a944-8c6585fe8971",
   "metadata": {},
   "outputs": [],
   "source": [
    "s = \"quality\""
   ]
  },
  {
   "cell_type": "code",
   "execution_count": 12,
   "id": "2c4cad79-d15c-40dd-a044-cf0dfebd9f71",
   "metadata": {},
   "outputs": [
    {
     "data": {
      "text/plain": [
       "['q', 'u', 'a', 'l', 'i', 't', 'y']"
      ]
     },
     "execution_count": 12,
     "metadata": {},
     "output_type": "execute_result"
    }
   ],
   "source": [
    "list(s)"
   ]
  },
  {
   "cell_type": "code",
   "execution_count": 13,
   "id": "f83c2bbf-2a00-454f-9ee4-554527b6db16",
   "metadata": {},
   "outputs": [
    {
     "data": {
      "text/plain": [
       "['q', 'u', 'a', 'l', 'i', 't', 'y', 1, 345, 45, 'sudh', True, (5+7j), 345.345]"
      ]
     },
     "execution_count": 13,
     "metadata": {},
     "output_type": "execute_result"
    }
   ],
   "source": [
    "list(s) + l"
   ]
  },
  {
   "cell_type": "code",
   "execution_count": 14,
   "id": "c47950ed-8a62-4043-a35b-6a74ffc5d35b",
   "metadata": {},
   "outputs": [
    {
     "data": {
      "text/plain": [
       "'quality'"
      ]
     },
     "execution_count": 14,
     "metadata": {},
     "output_type": "execute_result"
    }
   ],
   "source": [
    "s"
   ]
  },
  {
   "cell_type": "code",
   "execution_count": 15,
   "id": "3f2180f9-7944-4531-97d7-a0c6098b6718",
   "metadata": {},
   "outputs": [
    {
     "data": {
      "text/plain": [
       "[1, 345, 45, 'sudh', True, (5+7j), 345.345]"
      ]
     },
     "execution_count": 15,
     "metadata": {},
     "output_type": "execute_result"
    }
   ],
   "source": [
    "l"
   ]
  },
  {
   "cell_type": "code",
   "execution_count": 16,
   "id": "1c7dd5b1-09df-4010-b495-fbdaa8d87866",
   "metadata": {},
   "outputs": [
    {
     "data": {
      "text/plain": [
       "'sudh'"
      ]
     },
     "execution_count": 16,
     "metadata": {},
     "output_type": "execute_result"
    }
   ],
   "source": [
    "l[3]"
   ]
  },
  {
   "cell_type": "code",
   "execution_count": 17,
   "id": "3ba4a4f2-920d-468a-8cf5-8de8c954f8c8",
   "metadata": {},
   "outputs": [
    {
     "data": {
      "text/plain": [
       "'su'"
      ]
     },
     "execution_count": 17,
     "metadata": {},
     "output_type": "execute_result"
    }
   ],
   "source": [
    "l[3][0:2:1]"
   ]
  },
  {
   "cell_type": "code",
   "execution_count": 18,
   "id": "c3ab7480-ebd9-4fd6-9b2a-606e8893413b",
   "metadata": {},
   "outputs": [
    {
     "data": {
      "text/plain": [
       "'Tr'"
      ]
     },
     "execution_count": 18,
     "metadata": {},
     "output_type": "execute_result"
    }
   ],
   "source": [
    "str(l[4])[0:2]"
   ]
  },
  {
   "cell_type": "code",
   "execution_count": 19,
   "id": "a4ab573f-6469-468a-85f4-c8548830ad96",
   "metadata": {},
   "outputs": [
    {
     "data": {
      "text/plain": [
       "[1, 345, 45, 'sudh', True, (5+7j), 345.345]"
      ]
     },
     "execution_count": 19,
     "metadata": {},
     "output_type": "execute_result"
    }
   ],
   "source": [
    "l"
   ]
  },
  {
   "cell_type": "code",
   "execution_count": 20,
   "id": "bc50d284-8723-4f16-be00-c053cd5e0170",
   "metadata": {},
   "outputs": [
    {
     "data": {
      "text/plain": [
       "'quality'"
      ]
     },
     "execution_count": 20,
     "metadata": {},
     "output_type": "execute_result"
    }
   ],
   "source": [
    "s"
   ]
  },
  {
   "cell_type": "code",
   "execution_count": 21,
   "id": "cb8980b5-906e-44c8-a036-835b77285920",
   "metadata": {},
   "outputs": [
    {
     "data": {
      "text/plain": [
       "[1, 345, 45, 'sudh', True, (5+7j), 345.345]"
      ]
     },
     "execution_count": 21,
     "metadata": {},
     "output_type": "execute_result"
    }
   ],
   "source": [
    "l"
   ]
  },
  {
   "cell_type": "code",
   "execution_count": 22,
   "id": "293ce014-2d26-4d3a-a506-34889c79286c",
   "metadata": {},
   "outputs": [
    {
     "data": {
      "text/plain": [
       "345.345"
      ]
     },
     "execution_count": 22,
     "metadata": {},
     "output_type": "execute_result"
    }
   ],
   "source": [
    "l[-1]"
   ]
  },
  {
   "cell_type": "code",
   "execution_count": 23,
   "id": "1ecd9d3a-7854-49ab-be76-8302efe46571",
   "metadata": {},
   "outputs": [
    {
     "data": {
      "text/plain": [
       "'quality'"
      ]
     },
     "execution_count": 23,
     "metadata": {},
     "output_type": "execute_result"
    }
   ],
   "source": [
    "s"
   ]
  },
  {
   "cell_type": "code",
   "execution_count": 24,
   "id": "0fbeae26-dfac-499d-9780-ba3a39f609fc",
   "metadata": {},
   "outputs": [
    {
     "data": {
      "text/plain": [
       "[345.345, (5+7j), True, 'sudh', 45, 345, 1]"
      ]
     },
     "execution_count": 24,
     "metadata": {},
     "output_type": "execute_result"
    }
   ],
   "source": [
    "l[::-1]"
   ]
  },
  {
   "cell_type": "code",
   "execution_count": 25,
   "id": "d1ed94af-b74a-45d6-b8f2-c13602aeaf4e",
   "metadata": {},
   "outputs": [
    {
     "data": {
      "text/plain": [
       "[1, 45, True, 345.345]"
      ]
     },
     "execution_count": 25,
     "metadata": {},
     "output_type": "execute_result"
    }
   ],
   "source": [
    "l[::2]"
   ]
  },
  {
   "cell_type": "code",
   "execution_count": 26,
   "id": "2bbf6cee-0672-46aa-82fc-954bf2794902",
   "metadata": {},
   "outputs": [
    {
     "data": {
      "text/plain": [
       "[1, True]"
      ]
     },
     "execution_count": 26,
     "metadata": {},
     "output_type": "execute_result"
    }
   ],
   "source": [
    "l[::4]"
   ]
  },
  {
   "cell_type": "code",
   "execution_count": 27,
   "id": "e36d4122-319c-4006-84a4-b75524263547",
   "metadata": {},
   "outputs": [
    {
     "data": {
      "text/plain": [
       "'quality'"
      ]
     },
     "execution_count": 27,
     "metadata": {},
     "output_type": "execute_result"
    }
   ],
   "source": [
    "s"
   ]
  },
  {
   "cell_type": "code",
   "execution_count": 28,
   "id": "7c70a552-a38a-4d9d-9306-e7944bd0ac88",
   "metadata": {},
   "outputs": [
    {
     "data": {
      "text/plain": [
       "\"[1, 345, 45, 'sudh', True, (5+7j), 345.345] quality\""
      ]
     },
     "execution_count": 28,
     "metadata": {},
     "output_type": "execute_result"
    }
   ],
   "source": [
    "str(l[::1]) +  \" \" + s"
   ]
  },
  {
   "cell_type": "code",
   "execution_count": 29,
   "id": "5c308bd5-e698-4950-817a-f986952c75fa",
   "metadata": {},
   "outputs": [
    {
     "data": {
      "text/plain": [
       "'su'"
      ]
     },
     "execution_count": 29,
     "metadata": {},
     "output_type": "execute_result"
    }
   ],
   "source": [
    "l[3][0:2:1]"
   ]
  },
  {
   "cell_type": "code",
   "execution_count": 30,
   "id": "fc95c545-1545-4bd1-9eca-bf1bdf47f5da",
   "metadata": {},
   "outputs": [],
   "source": [
    "l1 = [3,4,5]"
   ]
  },
  {
   "cell_type": "code",
   "execution_count": 31,
   "id": "8fc1773e-ab35-404a-9ba3-38f9c96e1d65",
   "metadata": {},
   "outputs": [
    {
     "data": {
      "text/plain": [
       "[3, 4, 5]"
      ]
     },
     "execution_count": 31,
     "metadata": {},
     "output_type": "execute_result"
    }
   ],
   "source": [
    "l1"
   ]
  },
  {
   "cell_type": "code",
   "execution_count": 32,
   "id": "0f0ec42e-587f-49ab-9f12-091fb15c11b2",
   "metadata": {},
   "outputs": [
    {
     "data": {
      "text/plain": [
       "[1, 345, 45, 'sudh', True, (5+7j), 345.345]"
      ]
     },
     "execution_count": 32,
     "metadata": {},
     "output_type": "execute_result"
    }
   ],
   "source": [
    "l"
   ]
  },
  {
   "cell_type": "code",
   "execution_count": 33,
   "id": "bf44a46d-81c5-47b7-82bf-fb28d42a2944",
   "metadata": {},
   "outputs": [],
   "source": [
    "l.append(5)"
   ]
  },
  {
   "cell_type": "code",
   "execution_count": 34,
   "id": "4cde6e18-c7a1-4d0f-a389-947e32b1a489",
   "metadata": {},
   "outputs": [
    {
     "data": {
      "text/plain": [
       "[1, 345, 45, 'sudh', True, (5+7j), 345.345, 5]"
      ]
     },
     "execution_count": 34,
     "metadata": {},
     "output_type": "execute_result"
    }
   ],
   "source": [
    "l"
   ]
  },
  {
   "cell_type": "code",
   "execution_count": 35,
   "id": "9aa9fcea-a610-473b-91bd-c40b4da264ed",
   "metadata": {},
   "outputs": [],
   "source": [
    "l.append(8)"
   ]
  },
  {
   "cell_type": "code",
   "execution_count": 36,
   "id": "34b50a72-f98c-41d1-bfbf-ccdda8da95c6",
   "metadata": {},
   "outputs": [
    {
     "data": {
      "text/plain": [
       "[1, 345, 45, 'sudh', True, (5+7j), 345.345, 5, 8]"
      ]
     },
     "execution_count": 36,
     "metadata": {},
     "output_type": "execute_result"
    }
   ],
   "source": [
    "l"
   ]
  },
  {
   "cell_type": "code",
   "execution_count": 37,
   "id": "f3837521-2b3d-4538-b5d3-13662b6b2f95",
   "metadata": {},
   "outputs": [],
   "source": [
    "l.extend(\"hi\")"
   ]
  },
  {
   "cell_type": "code",
   "execution_count": 38,
   "id": "07bc894b-3a1d-408e-93fd-e08ad9faa2e7",
   "metadata": {},
   "outputs": [
    {
     "data": {
      "text/plain": [
       "[1, 345, 45, 'sudh', True, (5+7j), 345.345, 5, 8, 'h', 'i']"
      ]
     },
     "execution_count": 38,
     "metadata": {},
     "output_type": "execute_result"
    }
   ],
   "source": [
    "l"
   ]
  },
  {
   "cell_type": "code",
   "execution_count": 39,
   "id": "3319cc9c-febe-4bcc-98df-b2ccce0ff046",
   "metadata": {},
   "outputs": [
    {
     "data": {
      "text/plain": [
       "[1, 345, 45, 'sudh', True, (5+7j), 345.345, 5, 8, 'h', 'i', 3, 4, 5]"
      ]
     },
     "execution_count": 39,
     "metadata": {},
     "output_type": "execute_result"
    }
   ],
   "source": [
    "l.extend([3,4,5])\n",
    "l"
   ]
  },
  {
   "cell_type": "code",
   "execution_count": 40,
   "id": "2abac592-6365-4164-8ee2-6a9077117f13",
   "metadata": {},
   "outputs": [
    {
     "data": {
      "text/plain": [
       "[1, 'hi', 345, 45, 'sudh', True, (5+7j), 345.345, 5, 8, 'h', 'i', 3, 4, 5]"
      ]
     },
     "execution_count": 40,
     "metadata": {},
     "output_type": "execute_result"
    }
   ],
   "source": [
    "l.insert(1,\"hi\")\n",
    "l"
   ]
  },
  {
   "cell_type": "code",
   "execution_count": 41,
   "id": "f26c2700-6a9d-4d16-9b1b-fc5236ed8075",
   "metadata": {},
   "outputs": [
    {
     "data": {
      "text/plain": [
       "[1,\n",
       " 'hi',\n",
       " 345,\n",
       " 45,\n",
       " 'sudh',\n",
       " True,\n",
       " (5+7j),\n",
       " 345.345,\n",
       " 5,\n",
       " 8,\n",
       " 'h',\n",
       " 'i',\n",
       " 3,\n",
       " 4,\n",
       " 'hi',\n",
       " 5]"
      ]
     },
     "execution_count": 41,
     "metadata": {},
     "output_type": "execute_result"
    }
   ],
   "source": [
    "l.insert(-1,\"hi\")\n",
    "l"
   ]
  },
  {
   "cell_type": "code",
   "execution_count": 42,
   "id": "01078459-a556-4f3d-9117-4726e80177c1",
   "metadata": {},
   "outputs": [
    {
     "data": {
      "text/plain": [
       "5"
      ]
     },
     "execution_count": 42,
     "metadata": {},
     "output_type": "execute_result"
    }
   ],
   "source": [
    "l.pop()"
   ]
  },
  {
   "cell_type": "code",
   "execution_count": 43,
   "id": "5a89e76d-15f4-48b9-84a9-754111da2c8a",
   "metadata": {},
   "outputs": [
    {
     "data": {
      "text/plain": [
       "[1, 'hi', 345, 45, 'sudh', True, (5+7j), 345.345, 5, 8, 'h', 'i', 3, 4, 'hi']"
      ]
     },
     "execution_count": 43,
     "metadata": {},
     "output_type": "execute_result"
    }
   ],
   "source": [
    "l\n"
   ]
  },
  {
   "cell_type": "code",
   "execution_count": 44,
   "id": "e5f119ac-cc98-4595-a08d-03948a6013ad",
   "metadata": {},
   "outputs": [
    {
     "data": {
      "text/plain": [
       "[1, 'hi', 45, 'sudh', True, (5+7j), 345.345, 5, 8, 'h', 'i', 3, 4, 'hi']"
      ]
     },
     "execution_count": 44,
     "metadata": {},
     "output_type": "execute_result"
    }
   ],
   "source": [
    "l.pop(2)\n",
    "l"
   ]
  },
  {
   "cell_type": "code",
   "execution_count": 45,
   "id": "8d2053d1-fb97-4787-b576-a894998cf936",
   "metadata": {},
   "outputs": [
    {
     "data": {
      "text/plain": [
       "'sudh'"
      ]
     },
     "execution_count": 45,
     "metadata": {},
     "output_type": "execute_result"
    }
   ],
   "source": [
    "l.pop(3)"
   ]
  },
  {
   "cell_type": "code",
   "execution_count": 46,
   "id": "6c610aa5-d504-4cc1-997f-a82bff88a5e9",
   "metadata": {},
   "outputs": [
    {
     "data": {
      "text/plain": [
       "[1, 'hi', 45, True, (5+7j), 345.345, 5, 8, 'h', 'i', 3, 4, 'hi']"
      ]
     },
     "execution_count": 46,
     "metadata": {},
     "output_type": "execute_result"
    }
   ],
   "source": [
    "l"
   ]
  },
  {
   "cell_type": "code",
   "execution_count": 47,
   "id": "38dad9bd-5659-49ef-9142-b2f6e3c17b94",
   "metadata": {},
   "outputs": [],
   "source": [
    "l.remove(45)"
   ]
  },
  {
   "cell_type": "code",
   "execution_count": 48,
   "id": "90448de5-1c82-444c-a035-eadea174754e",
   "metadata": {},
   "outputs": [
    {
     "data": {
      "text/plain": [
       "[1, 'hi', True, (5+7j), 345.345, 5, 8, 'h', 'i', 3, 4, 'hi']"
      ]
     },
     "execution_count": 48,
     "metadata": {},
     "output_type": "execute_result"
    }
   ],
   "source": [
    "l"
   ]
  },
  {
   "cell_type": "code",
   "execution_count": 49,
   "id": "eace8dd5-d285-42a7-8aa7-282e88f54811",
   "metadata": {},
   "outputs": [
    {
     "data": {
      "text/plain": [
       "[1, 'hi', True, (5+7j), 345.345, 5, 'h', 'i', 3, 4, 'hi']"
      ]
     },
     "execution_count": 49,
     "metadata": {},
     "output_type": "execute_result"
    }
   ],
   "source": [
    "l.remove(8)\n",
    "l"
   ]
  },
  {
   "cell_type": "code",
   "execution_count": 50,
   "id": "9378d2e5-597b-4be9-b688-fb53cae31218",
   "metadata": {},
   "outputs": [
    {
     "ename": "AttributeError",
     "evalue": "'bool' object has no attribute 'remove'",
     "output_type": "error",
     "traceback": [
      "\u001b[0;31m---------------------------------------------------------------------------\u001b[0m",
      "\u001b[0;31mAttributeError\u001b[0m                            Traceback (most recent call last)",
      "Cell \u001b[0;32mIn[50], line 1\u001b[0m\n\u001b[0;32m----> 1\u001b[0m \u001b[43ml\u001b[49m\u001b[43m[\u001b[49m\u001b[38;5;241;43m2\u001b[39;49m\u001b[43m]\u001b[49m\u001b[38;5;241;43m.\u001b[39;49m\u001b[43mremove\u001b[49m(\u001b[38;5;241m8\u001b[39m)\n\u001b[1;32m      2\u001b[0m l\n",
      "\u001b[0;31mAttributeError\u001b[0m: 'bool' object has no attribute 'remove'"
     ]
    }
   ],
   "source": [
    "l[2].remove(8)\n",
    "l"
   ]
  },
  {
   "cell_type": "code",
   "execution_count": 51,
   "id": "361dca36-594e-4fc4-8d0a-1326695e4739",
   "metadata": {},
   "outputs": [],
   "source": [
    "l.remove(5)"
   ]
  },
  {
   "cell_type": "code",
   "execution_count": 52,
   "id": "9b53408d-92c6-445b-8a30-24906edc2f5b",
   "metadata": {},
   "outputs": [
    {
     "data": {
      "text/plain": [
       "[1, 'hi', True, (5+7j), 345.345, 'h', 'i', 3, 4, 'hi']"
      ]
     },
     "execution_count": 52,
     "metadata": {},
     "output_type": "execute_result"
    }
   ],
   "source": [
    "l"
   ]
  },
  {
   "cell_type": "code",
   "execution_count": 53,
   "id": "9ff41a03-72fd-4242-acd5-e401c75d2ff4",
   "metadata": {},
   "outputs": [],
   "source": [
    "l.reverse()"
   ]
  },
  {
   "cell_type": "code",
   "execution_count": 54,
   "id": "16da293f-d629-47d6-95b5-38acb4d33d1a",
   "metadata": {},
   "outputs": [
    {
     "data": {
      "text/plain": [
       "['hi', 4, 3, 'i', 'h', 345.345, (5+7j), True, 'hi', 1]"
      ]
     },
     "execution_count": 54,
     "metadata": {},
     "output_type": "execute_result"
    }
   ],
   "source": [
    "l"
   ]
  },
  {
   "cell_type": "code",
   "execution_count": 55,
   "id": "2ba99e6e-8079-441c-86d0-57e7540b5312",
   "metadata": {},
   "outputs": [
    {
     "data": {
      "text/plain": [
       "[87, 85, 74, 59, 56, 26, 8, 7, 7, 5, 4]"
      ]
     },
     "execution_count": 55,
     "metadata": {},
     "output_type": "execute_result"
    }
   ],
   "source": [
    "l1 = [87,5,7,85,74,8,7,56,4,26,59]\n",
    "l1.sort(reverse=True)\n",
    "l1"
   ]
  },
  {
   "cell_type": "code",
   "execution_count": 56,
   "id": "2f72319d-3373-4e93-a91a-ad3bed803a78",
   "metadata": {},
   "outputs": [
    {
     "data": {
      "text/plain": [
       "3"
      ]
     },
     "execution_count": 56,
     "metadata": {},
     "output_type": "execute_result"
    }
   ],
   "source": [
    "l1.index(59)"
   ]
  },
  {
   "cell_type": "code",
   "execution_count": 57,
   "id": "ef095903-938f-475d-b12b-d2db54ee2d62",
   "metadata": {},
   "outputs": [
    {
     "data": {
      "text/plain": [
       "2"
      ]
     },
     "execution_count": 57,
     "metadata": {},
     "output_type": "execute_result"
    }
   ],
   "source": [
    "l1.count(7)"
   ]
  },
  {
   "cell_type": "code",
   "execution_count": 58,
   "id": "09e7dda5-1d36-4f71-bfa8-08d2a6a8c074",
   "metadata": {},
   "outputs": [],
   "source": [
    "s = \"laser\""
   ]
  },
  {
   "cell_type": "code",
   "execution_count": 59,
   "id": "83b778e3-96f5-470b-8041-ea64b011b448",
   "metadata": {},
   "outputs": [
    {
     "data": {
      "text/plain": [
       "'laser'"
      ]
     },
     "execution_count": 59,
     "metadata": {},
     "output_type": "execute_result"
    }
   ],
   "source": [
    "s"
   ]
  },
  {
   "cell_type": "code",
   "execution_count": 60,
   "id": "feb168c7-4576-4048-8991-ed9704465703",
   "metadata": {},
   "outputs": [
    {
     "ename": "NameError",
     "evalue": "name 'q' is not defined",
     "output_type": "error",
     "traceback": [
      "\u001b[0;31m---------------------------------------------------------------------------\u001b[0m",
      "\u001b[0;31mNameError\u001b[0m                                 Traceback (most recent call last)",
      "Cell \u001b[0;32mIn[60], line 1\u001b[0m\n\u001b[0;32m----> 1\u001b[0m s[\u001b[38;5;241m0\u001b[39m] \u001b[38;5;241m=\u001b[39m \u001b[43mq\u001b[49m\n",
      "\u001b[0;31mNameError\u001b[0m: name 'q' is not defined"
     ]
    }
   ],
   "source": [
    "s[0] = q"
   ]
  },
  {
   "cell_type": "code",
   "execution_count": 61,
   "id": "ca87f97f-7ab7-40c9-b854-1d4afa742ee6",
   "metadata": {},
   "outputs": [
    {
     "data": {
      "text/plain": [
       "'Laser'"
      ]
     },
     "execution_count": 61,
     "metadata": {},
     "output_type": "execute_result"
    }
   ],
   "source": [
    "s.replace('l' , 'L')"
   ]
  },
  {
   "cell_type": "code",
   "execution_count": 62,
   "id": "d8832c1b-4f3f-4804-a1af-cbc1173b6514",
   "metadata": {},
   "outputs": [
    {
     "data": {
      "text/plain": [
       "'laser'"
      ]
     },
     "execution_count": 62,
     "metadata": {},
     "output_type": "execute_result"
    }
   ],
   "source": [
    "s"
   ]
  },
  {
   "cell_type": "code",
   "execution_count": 63,
   "id": "e68f1653-88a0-45b1-a274-cfbfab7a61e6",
   "metadata": {},
   "outputs": [],
   "source": [
    "# tuples"
   ]
  },
  {
   "cell_type": "code",
   "execution_count": 64,
   "id": "fc80b51c-f89c-423d-bce8-c01dbb460241",
   "metadata": {},
   "outputs": [],
   "source": [
    "t = (2,3,4,5,\"laser\",45.55,False,(45+457j),[3,4,5])"
   ]
  },
  {
   "cell_type": "code",
   "execution_count": 65,
   "id": "36ac80cd-0436-440a-8836-d5e6a5bb0635",
   "metadata": {},
   "outputs": [
    {
     "data": {
      "text/plain": [
       "(2, 3, 4, 5, 'laser', 45.55, False, (45+457j), [3, 4, 5])"
      ]
     },
     "execution_count": 65,
     "metadata": {},
     "output_type": "execute_result"
    }
   ],
   "source": [
    "t"
   ]
  },
  {
   "cell_type": "code",
   "execution_count": 66,
   "id": "bdb41372-377f-4a60-8bb7-5e5ef3d7f49c",
   "metadata": {},
   "outputs": [
    {
     "data": {
      "text/plain": [
       "tuple"
      ]
     },
     "execution_count": 66,
     "metadata": {},
     "output_type": "execute_result"
    }
   ],
   "source": [
    "type(t)"
   ]
  },
  {
   "cell_type": "code",
   "execution_count": 67,
   "id": "7d750546-ef95-4cd0-af9f-74fd9eee4006",
   "metadata": {},
   "outputs": [
    {
     "data": {
      "text/plain": [
       "9"
      ]
     },
     "execution_count": 67,
     "metadata": {},
     "output_type": "execute_result"
    }
   ],
   "source": [
    "len(t)"
   ]
  },
  {
   "cell_type": "code",
   "execution_count": 68,
   "id": "a280f156-227a-4958-b405-960b470b513b",
   "metadata": {},
   "outputs": [
    {
     "data": {
      "text/plain": [
       "2"
      ]
     },
     "execution_count": 68,
     "metadata": {},
     "output_type": "execute_result"
    }
   ],
   "source": [
    "t[0]"
   ]
  },
  {
   "cell_type": "code",
   "execution_count": 69,
   "id": "d056af26-a3e0-481f-bd36-f8e6bf719473",
   "metadata": {},
   "outputs": [
    {
     "data": {
      "text/plain": [
       "[3, 4, 5]"
      ]
     },
     "execution_count": 69,
     "metadata": {},
     "output_type": "execute_result"
    }
   ],
   "source": [
    "t[-1]"
   ]
  },
  {
   "cell_type": "code",
   "execution_count": 70,
   "id": "30782ee2-2939-436e-9992-c66535135b13",
   "metadata": {},
   "outputs": [
    {
     "data": {
      "text/plain": [
       "([3, 4, 5], (45+457j), False, 45.55, 'laser', 5, 4, 3, 2)"
      ]
     },
     "execution_count": 70,
     "metadata": {},
     "output_type": "execute_result"
    }
   ],
   "source": [
    "t[::-1]"
   ]
  },
  {
   "cell_type": "code",
   "execution_count": 71,
   "id": "095c2e9c-0503-4961-81ef-21f5574a3d71",
   "metadata": {},
   "outputs": [
    {
     "data": {
      "text/plain": [
       "['hi', 4, 3, 'i', 'h', 345.345, (5+7j), True, 'hi', 1]"
      ]
     },
     "execution_count": 71,
     "metadata": {},
     "output_type": "execute_result"
    }
   ],
   "source": [
    "l"
   ]
  },
  {
   "cell_type": "code",
   "execution_count": 72,
   "id": "8de6a657-5cf2-4548-a54a-9963d854bc43",
   "metadata": {},
   "outputs": [
    {
     "data": {
      "text/plain": [
       "(2, 3, 4, 5, 'laser', 45.55, False, (45+457j), [3, 4, 5])"
      ]
     },
     "execution_count": 72,
     "metadata": {},
     "output_type": "execute_result"
    }
   ],
   "source": [
    "t"
   ]
  },
  {
   "cell_type": "code",
   "execution_count": 74,
   "id": "b9fa1be1-a787-4c6d-b5b6-f1a59e0292c1",
   "metadata": {},
   "outputs": [
    {
     "data": {
      "text/plain": [
       "1"
      ]
     },
     "execution_count": 74,
     "metadata": {},
     "output_type": "execute_result"
    }
   ],
   "source": [
    "t.count(4)"
   ]
  },
  {
   "cell_type": "code",
   "execution_count": 75,
   "id": "236e4bbd-db1f-4b29-a3ae-07c6c14aae3a",
   "metadata": {},
   "outputs": [
    {
     "data": {
      "text/plain": [
       "6"
      ]
     },
     "execution_count": 75,
     "metadata": {},
     "output_type": "execute_result"
    }
   ],
   "source": [
    "t.index(False)"
   ]
  },
  {
   "cell_type": "markdown",
   "id": "bcf7ab81-0622-48cd-9e1b-f6485c8a2ae1",
   "metadata": {},
   "source": [
    "SET"
   ]
  },
  {
   "cell_type": "code",
   "execution_count": 78,
   "id": "c8308401-3167-4618-818d-1c4e01ff8759",
   "metadata": {},
   "outputs": [],
   "source": [
    "s1 = {}"
   ]
  },
  {
   "cell_type": "code",
   "execution_count": 79,
   "id": "e8a326c2-bc89-4e84-b440-3384eca107e3",
   "metadata": {},
   "outputs": [
    {
     "data": {
      "text/plain": [
       "dict"
      ]
     },
     "execution_count": 79,
     "metadata": {},
     "output_type": "execute_result"
    }
   ],
   "source": [
    "type(s1)"
   ]
  },
  {
   "cell_type": "code",
   "execution_count": 80,
   "id": "f1849a67-e11c-4106-9163-50afad3d8691",
   "metadata": {},
   "outputs": [],
   "source": [
    "s2 = {2,3,4,55,6}"
   ]
  },
  {
   "cell_type": "code",
   "execution_count": 81,
   "id": "c5f375b0-d819-4608-9eb4-377e494e4d49",
   "metadata": {},
   "outputs": [
    {
     "data": {
      "text/plain": [
       "set"
      ]
     },
     "execution_count": 81,
     "metadata": {},
     "output_type": "execute_result"
    }
   ],
   "source": [
    "type(s2)"
   ]
  },
  {
   "cell_type": "code",
   "execution_count": 82,
   "id": "62695946-19f7-45b1-bce3-f46125720668",
   "metadata": {},
   "outputs": [],
   "source": [
    "s3 = {324,456,456,\"laser\",45+45j,34.465,(3,4,5)}"
   ]
  },
  {
   "cell_type": "code",
   "execution_count": 83,
   "id": "828661f2-9a34-497e-b2f6-e3e5950c3f8c",
   "metadata": {},
   "outputs": [
    {
     "data": {
      "text/plain": [
       "{(3, 4, 5), (45+45j), 324, 34.465, 456, 'laser'}"
      ]
     },
     "execution_count": 83,
     "metadata": {},
     "output_type": "execute_result"
    }
   ],
   "source": [
    "s3"
   ]
  },
  {
   "cell_type": "code",
   "execution_count": 84,
   "id": "2bcaa406-ba32-42de-ace6-30c9622f7596",
   "metadata": {},
   "outputs": [],
   "source": [
    "s4 = {2,3,4,5,6,7,2,3,4,6,7,3,2,4,6}"
   ]
  },
  {
   "cell_type": "code",
   "execution_count": 85,
   "id": "0be250e2-767b-46e9-b07d-04c159122c2c",
   "metadata": {},
   "outputs": [
    {
     "data": {
      "text/plain": [
       "{2, 3, 4, 5, 6, 7}"
      ]
     },
     "execution_count": 85,
     "metadata": {},
     "output_type": "execute_result"
    }
   ],
   "source": [
    "s4"
   ]
  },
  {
   "cell_type": "code",
   "execution_count": 1,
   "id": "8e671a1d-35e7-4c8a-8c93-3002a4f56e66",
   "metadata": {},
   "outputs": [],
   "source": [
    "s5 = {234,45,12,567,45,78,234,\"abc\",456,342,23,2}"
   ]
  },
  {
   "cell_type": "code",
   "execution_count": 2,
   "id": "472c8c54-f30b-466b-85af-d424f6fb9812",
   "metadata": {},
   "outputs": [
    {
     "data": {
      "text/plain": [
       "{12, 2, 23, 234, 342, 45, 456, 567, 78, 'abc'}"
      ]
     },
     "execution_count": 2,
     "metadata": {},
     "output_type": "execute_result"
    }
   ],
   "source": [
    "s5"
   ]
  },
  {
   "cell_type": "code",
   "execution_count": 3,
   "id": "df6f07fb-c135-415c-8bb7-82be5097ba26",
   "metadata": {},
   "outputs": [
    {
     "ename": "TypeError",
     "evalue": "'set' object is not subscriptable",
     "output_type": "error",
     "traceback": [
      "\u001b[0;31m---------------------------------------------------------------------------\u001b[0m",
      "\u001b[0;31mTypeError\u001b[0m                                 Traceback (most recent call last)",
      "Cell \u001b[0;32mIn[3], line 1\u001b[0m\n\u001b[0;32m----> 1\u001b[0m \u001b[43ms5\u001b[49m\u001b[43m[\u001b[49m\u001b[38;5;241;43m0\u001b[39;49m\u001b[43m]\u001b[49m\n",
      "\u001b[0;31mTypeError\u001b[0m: 'set' object is not subscriptable"
     ]
    }
   ],
   "source": [
    "s5[0]"
   ]
  },
  {
   "cell_type": "code",
   "execution_count": 5,
   "id": "2411c4f3-1f94-468e-9e5a-99e80b01c24f",
   "metadata": {},
   "outputs": [],
   "source": [
    "s5.add(3)"
   ]
  },
  {
   "cell_type": "code",
   "execution_count": 6,
   "id": "9587577b-d108-464d-bcb2-0a5ec8e376ab",
   "metadata": {},
   "outputs": [
    {
     "data": {
      "text/plain": [
       "{12, 2, 23, 234, 3, 342, 45, 456, 567, 78, 'abc'}"
      ]
     },
     "execution_count": 6,
     "metadata": {},
     "output_type": "execute_result"
    }
   ],
   "source": [
    "s5"
   ]
  },
  {
   "cell_type": "code",
   "execution_count": 7,
   "id": "370f324a-a4d8-41ba-8931-3d45d2b087d0",
   "metadata": {},
   "outputs": [],
   "source": [
    "s5.remove(2)"
   ]
  },
  {
   "cell_type": "code",
   "execution_count": 8,
   "id": "d7a12ae2-66f3-4f83-a9c7-92be2877e036",
   "metadata": {},
   "outputs": [
    {
     "data": {
      "text/plain": [
       "{12, 23, 234, 3, 342, 45, 456, 567, 78, 'abc'}"
      ]
     },
     "execution_count": 8,
     "metadata": {},
     "output_type": "execute_result"
    }
   ],
   "source": [
    "s5"
   ]
  },
  {
   "cell_type": "code",
   "execution_count": 10,
   "id": "52a896fe-5e2d-4d83-9ec3-cd49a1a46426",
   "metadata": {},
   "outputs": [],
   "source": [
    "s = \"lab\"\n",
    "l = [3,4,'jay',5,6,6,'jay',6]"
   ]
  },
  {
   "cell_type": "code",
   "execution_count": 11,
   "id": "b1befd24-696b-44e1-b518-72359c43e60b",
   "metadata": {},
   "outputs": [],
   "source": [
    "l.insert(3,list(s))"
   ]
  },
  {
   "cell_type": "code",
   "execution_count": 12,
   "id": "160b1f76-6f8c-4e33-a08c-9b393ac75a26",
   "metadata": {},
   "outputs": [
    {
     "data": {
      "text/plain": [
       "[3, 4, 'jay', ['l', 'a', 'b'], 5, 6, 6, 'jay', 6]"
      ]
     },
     "execution_count": 12,
     "metadata": {},
     "output_type": "execute_result"
    }
   ],
   "source": [
    "l"
   ]
  },
  {
   "cell_type": "code",
   "execution_count": 1,
   "id": "2d2204af-8f21-4331-bd74-6561b253de5f",
   "metadata": {},
   "outputs": [],
   "source": [
    "#dictionary"
   ]
  },
  {
   "cell_type": "code",
   "execution_count": 2,
   "id": "dd4fb2fa-8857-47a2-9702-b67976789aba",
   "metadata": {},
   "outputs": [],
   "source": [
    "d = {}"
   ]
  },
  {
   "cell_type": "code",
   "execution_count": 3,
   "id": "3079a0f9-5395-44c4-9dca-f0970eef033f",
   "metadata": {},
   "outputs": [
    {
     "data": {
      "text/plain": [
       "dict"
      ]
     },
     "execution_count": 3,
     "metadata": {},
     "output_type": "execute_result"
    }
   ],
   "source": [
    "type(d)"
   ]
  },
  {
   "cell_type": "code",
   "execution_count": 4,
   "id": "e3443f69-1b58-4a4b-9bbb-9db53baabd3f",
   "metadata": {},
   "outputs": [],
   "source": [
    "d1 = {'key' : \"imam\"}"
   ]
  },
  {
   "cell_type": "code",
   "execution_count": 5,
   "id": "922ff7ea-2467-43a1-8bc0-481404100a35",
   "metadata": {},
   "outputs": [
    {
     "data": {
      "text/plain": [
       "{'key': 'imam'}"
      ]
     },
     "execution_count": 5,
     "metadata": {},
     "output_type": "execute_result"
    }
   ],
   "source": [
    "d1"
   ]
  },
  {
   "cell_type": "code",
   "execution_count": 6,
   "id": "d7349445-4d83-4f71-875e-9b82ab46d12e",
   "metadata": {},
   "outputs": [],
   "source": [
    "d2 = {'name' : \"imam\" , \"email\" : \"imam@gmail.com\" , \"number\" : 9311426193}"
   ]
  },
  {
   "cell_type": "code",
   "execution_count": 8,
   "id": "146b94fe-667d-4cab-aa28-6089241c2ca9",
   "metadata": {},
   "outputs": [
    {
     "data": {
      "text/plain": [
       "{'name': 'imam', 'email': 'imam@gmail.com', 'number': 9311426193}"
      ]
     },
     "execution_count": 8,
     "metadata": {},
     "output_type": "execute_result"
    }
   ],
   "source": [
    "d2"
   ]
  },
  {
   "cell_type": "code",
   "execution_count": 11,
   "id": "5297cc9c-a985-4b00-87b5-271866e3a110",
   "metadata": {},
   "outputs": [],
   "source": [
    "d3 = {234 : \"imam\" , \"@\" : \"wild\" , True : 123456}"
   ]
  },
  {
   "cell_type": "code",
   "execution_count": 12,
   "id": "330c43a1-1a82-4cf5-b1ad-9cb80ad632a4",
   "metadata": {},
   "outputs": [
    {
     "data": {
      "text/plain": [
       "{234: 'imam', '@': 'wild', True: 123456}"
      ]
     },
     "execution_count": 12,
     "metadata": {},
     "output_type": "execute_result"
    }
   ],
   "source": [
    "d3"
   ]
  },
  {
   "cell_type": "code",
   "execution_count": 13,
   "id": "e4f0d656-fbee-4fe8-a675-a2a1a3150fc4",
   "metadata": {},
   "outputs": [
    {
     "ename": "KeyError",
     "evalue": "2",
     "output_type": "error",
     "traceback": [
      "\u001b[0;31m---------------------------------------------------------------------------\u001b[0m",
      "\u001b[0;31mKeyError\u001b[0m                                  Traceback (most recent call last)",
      "Cell \u001b[0;32mIn[13], line 1\u001b[0m\n\u001b[0;32m----> 1\u001b[0m \u001b[43md3\u001b[49m\u001b[43m[\u001b[49m\u001b[38;5;241;43m2\u001b[39;49m\u001b[43m]\u001b[49m\n",
      "\u001b[0;31mKeyError\u001b[0m: 2"
     ]
    }
   ],
   "source": [
    "d3[2]"
   ]
  },
  {
   "cell_type": "code",
   "execution_count": 16,
   "id": "29ba1a33-4b88-4d91-8295-658cd82921b0",
   "metadata": {},
   "outputs": [
    {
     "data": {
      "text/plain": [
       "'imam'"
      ]
     },
     "execution_count": 16,
     "metadata": {},
     "output_type": "execute_result"
    }
   ],
   "source": [
    "d3[234]"
   ]
  },
  {
   "cell_type": "code",
   "execution_count": 17,
   "id": "7bcda84f-0cd7-4e7f-a397-28f4f58e1bb1",
   "metadata": {},
   "outputs": [
    {
     "data": {
      "text/plain": [
       "'wild'"
      ]
     },
     "execution_count": 17,
     "metadata": {},
     "output_type": "execute_result"
    }
   ],
   "source": [
    "d3[\"@\"]"
   ]
  },
  {
   "cell_type": "code",
   "execution_count": 18,
   "id": "fd23e00a-f0b2-47ec-bee7-cf4c5fe14501",
   "metadata": {},
   "outputs": [
    {
     "data": {
      "text/plain": [
       "123456"
      ]
     },
     "execution_count": 18,
     "metadata": {},
     "output_type": "execute_result"
    }
   ],
   "source": [
    "d3[1]"
   ]
  },
  {
   "cell_type": "code",
   "execution_count": 19,
   "id": "50b2eb2b-ec2f-42a4-9d0b-90af7e9a2269",
   "metadata": {},
   "outputs": [],
   "source": [
    "d4 = {\"name\" : \"imam\" ,\"mail_id\" : \"imam@gmail.com\" , \"name\" : \"mtimam\"}"
   ]
  },
  {
   "cell_type": "code",
   "execution_count": 20,
   "id": "b239dc74-b19d-469e-9029-fe21b7c8c161",
   "metadata": {},
   "outputs": [
    {
     "data": {
      "text/plain": [
       "{'name': 'mtimam', 'mail_id': 'imam@gmail.com'}"
      ]
     },
     "execution_count": 20,
     "metadata": {},
     "output_type": "execute_result"
    }
   ],
   "source": [
    "d4"
   ]
  },
  {
   "cell_type": "code",
   "execution_count": 22,
   "id": "bfefbe38-7b5f-43b3-ba3d-b31a8a9d4783",
   "metadata": {},
   "outputs": [
    {
     "data": {
      "text/plain": [
       "'mtimam'"
      ]
     },
     "execution_count": 22,
     "metadata": {},
     "output_type": "execute_result"
    }
   ],
   "source": [
    "d4[\"name\"]"
   ]
  },
  {
   "cell_type": "code",
   "execution_count": 23,
   "id": "4cfbeecd-57a7-44a9-967a-3069b78bc68f",
   "metadata": {},
   "outputs": [],
   "source": [
    "d5 = {\"company\" : \"pwskills\" , \"course\" : [\"web dev\" , \"data science\" , \"java with dsa system design\"]}"
   ]
  },
  {
   "cell_type": "code",
   "execution_count": 24,
   "id": "8e8841c1-c71a-4bf9-840d-f42fb56a32e8",
   "metadata": {},
   "outputs": [
    {
     "data": {
      "text/plain": [
       "{'company': 'pwskills',\n",
       " 'course': ['web dev', 'data science', 'java with dsa system design']}"
      ]
     },
     "execution_count": 24,
     "metadata": {},
     "output_type": "execute_result"
    }
   ],
   "source": [
    "d5"
   ]
  },
  {
   "cell_type": "code",
   "execution_count": 26,
   "id": "f1f4f7df-43df-44d0-9306-43513e1bb2d0",
   "metadata": {},
   "outputs": [
    {
     "data": {
      "text/plain": [
       "['web dev', 'data science', 'java with dsa system design']"
      ]
     },
     "execution_count": 26,
     "metadata": {},
     "output_type": "execute_result"
    }
   ],
   "source": [
    "d5['course']"
   ]
  },
  {
   "cell_type": "code",
   "execution_count": 28,
   "id": "3b9809cd-e0c7-45f8-bfd8-dda65383c211",
   "metadata": {},
   "outputs": [
    {
     "data": {
      "text/plain": [
       "'java with dsa system design'"
      ]
     },
     "execution_count": 28,
     "metadata": {},
     "output_type": "execute_result"
    }
   ],
   "source": [
    "d5['course'][2]"
   ]
  },
  {
   "cell_type": "code",
   "execution_count": 32,
   "id": "3942cb00-584c-4bf3-b656-4b67d3d667c2",
   "metadata": {},
   "outputs": [],
   "source": [
    "d6 = {\"number\" : [2,34,3,34,34] , \"assignment\" : (1,2,3,4,5,6) , \"launch_date\" : {28,12,14} , \"class_time\" : {\"web_dev\" : 8} }"
   ]
  },
  {
   "cell_type": "code",
   "execution_count": 33,
   "id": "afdb9b7a-2f9d-4e39-9a3d-b183f9f40242",
   "metadata": {},
   "outputs": [
    {
     "data": {
      "text/plain": [
       "{'number': [2, 34, 3, 34, 34],\n",
       " 'assignment': (1, 2, 3, 4, 5, 6),\n",
       " 'launch_date': {12, 14, 28},\n",
       " 'class_time': {'web_dev': 8}}"
      ]
     },
     "execution_count": 33,
     "metadata": {},
     "output_type": "execute_result"
    }
   ],
   "source": [
    "d6"
   ]
  },
  {
   "cell_type": "code",
   "execution_count": 34,
   "id": "622fd6a5-667e-4d52-a91e-107fe5158a27",
   "metadata": {},
   "outputs": [],
   "source": [
    "d6['mentor'] = [\"imam\", \"ifra\" , \"ayesha\" , \"tammo\"]"
   ]
  },
  {
   "cell_type": "code",
   "execution_count": 35,
   "id": "ed63820d-480f-4a80-9cab-1576d080fff3",
   "metadata": {},
   "outputs": [
    {
     "data": {
      "text/plain": [
       "{'number': [2, 34, 3, 34, 34],\n",
       " 'assignment': (1, 2, 3, 4, 5, 6),\n",
       " 'launch_date': {12, 14, 28},\n",
       " 'class_time': {'web_dev': 8},\n",
       " 'mentor': ['imam', 'ifra', 'ayesha', 'tammo']}"
      ]
     },
     "execution_count": 35,
     "metadata": {},
     "output_type": "execute_result"
    }
   ],
   "source": [
    "d6"
   ]
  },
  {
   "cell_type": "code",
   "execution_count": 36,
   "id": "a6ebc0d0-7509-4b9f-aa2f-3e24632fc64e",
   "metadata": {},
   "outputs": [],
   "source": [
    "del d6 [\"number\"]"
   ]
  },
  {
   "cell_type": "code",
   "execution_count": 37,
   "id": "aa3d35d3-17e6-4144-b407-3c84a51601bf",
   "metadata": {},
   "outputs": [
    {
     "data": {
      "text/plain": [
       "{'assignment': (1, 2, 3, 4, 5, 6),\n",
       " 'launch_date': {12, 14, 28},\n",
       " 'class_time': {'web_dev': 8},\n",
       " 'mentor': ['imam', 'ifra', 'ayesha', 'tammo']}"
      ]
     },
     "execution_count": 37,
     "metadata": {},
     "output_type": "execute_result"
    }
   ],
   "source": [
    "d6"
   ]
  },
  {
   "cell_type": "code",
   "execution_count": 40,
   "id": "5102e386-158a-471d-817e-422869405ece",
   "metadata": {},
   "outputs": [
    {
     "data": {
      "text/plain": [
       "['assignment', 'launch_date', 'class_time', 'mentor']"
      ]
     },
     "execution_count": 40,
     "metadata": {},
     "output_type": "execute_result"
    }
   ],
   "source": [
    "list(d6.keys())"
   ]
  },
  {
   "cell_type": "code",
   "execution_count": 42,
   "id": "7c8531a1-9fdd-4bc2-912e-94e171781ef8",
   "metadata": {},
   "outputs": [
    {
     "data": {
      "text/plain": [
       "[(1, 2, 3, 4, 5, 6),\n",
       " {12, 14, 28},\n",
       " {'web_dev': 8},\n",
       " ['imam', 'ifra', 'ayesha', 'tammo']]"
      ]
     },
     "execution_count": 42,
     "metadata": {},
     "output_type": "execute_result"
    }
   ],
   "source": [
    "list(d6.values())"
   ]
  },
  {
   "cell_type": "code",
   "execution_count": 43,
   "id": "d31e91db-6ada-47fe-9fbf-edf7aaa343a1",
   "metadata": {},
   "outputs": [
    {
     "data": {
      "text/plain": [
       "['imam', 'ifra', 'ayesha', 'tammo']"
      ]
     },
     "execution_count": 43,
     "metadata": {},
     "output_type": "execute_result"
    }
   ],
   "source": [
    "d6.pop(\"mentor\")"
   ]
  },
  {
   "cell_type": "code",
   "execution_count": 44,
   "id": "ffd6280c-9f62-414e-a99d-304df1e222bd",
   "metadata": {},
   "outputs": [
    {
     "data": {
      "text/plain": [
       "{'assignment': (1, 2, 3, 4, 5, 6),\n",
       " 'launch_date': {12, 14, 28},\n",
       " 'class_time': {'web_dev': 8}}"
      ]
     },
     "execution_count": 44,
     "metadata": {},
     "output_type": "execute_result"
    }
   ],
   "source": [
    "d6"
   ]
  },
  {
   "cell_type": "code",
   "execution_count": 48,
   "id": "cd5088dc-3a84-414d-861f-97ef9684d4a1",
   "metadata": {},
   "outputs": [
    {
     "name": "stdin",
     "output_type": "stream",
     "text": [
      "enter your marks  78\n"
     ]
    },
    {
     "name": "stdout",
     "output_type": "stream",
     "text": [
      "you will be a part of A1 batch\n"
     ]
    }
   ],
   "source": [
    "marks = int(input(\"enter your marks \" ))\n",
    "if marks  >= 80 :\n",
    "    print(\"you eill be a part of A0 batch\")\n",
    "elif marks >= 60 and marks < 80 :\n",
    "    print(\"you will be a part of A1 batch\")\n",
    "elif marks >= 40 and marks < 60 :\n",
    "    print(\"you will be a part of A2 batch\")\n",
    "else : \n",
    "    print(\"you will be a part of A3 batch \")"
   ]
  },
  {
   "cell_type": "code",
   "execution_count": 49,
   "id": "f3dfcbb9-aff1-4910-99ff-eb34a04e8083",
   "metadata": {},
   "outputs": [
    {
     "data": {
      "text/plain": [
       "False"
      ]
     },
     "execution_count": 49,
     "metadata": {},
     "output_type": "execute_result"
    }
   ],
   "source": [
    "10 >= 80 "
   ]
  },
  {
   "cell_type": "code",
   "execution_count": 50,
   "id": "862be902-3921-4e02-b8b5-164605b255ce",
   "metadata": {},
   "outputs": [],
   "source": [
    "l = [1,2,3,3,4,5,6,7,8] \n"
   ]
  },
  {
   "cell_type": "code",
   "execution_count": 52,
   "id": "ef3888f7-1d24-49fb-a046-941da0de4818",
   "metadata": {},
   "outputs": [
    {
     "name": "stdout",
     "output_type": "stream",
     "text": [
      "[2, 3, 4, 4, 5, 6, 7, 8, 9]\n"
     ]
    }
   ],
   "source": [
    "l1 = []\n",
    "for i in l:\n",
    "    l1.append(i+ 1)\n",
    "    \n",
    "print(l1)"
   ]
  },
  {
   "cell_type": "code",
   "execution_count": 53,
   "id": "61baaf96-05ba-4a1a-bb91-a85910cc0b2d",
   "metadata": {},
   "outputs": [],
   "source": [
    "l = [\"imam\" , \"md\" , \"pwskills\" , \"course\"]"
   ]
  },
  {
   "cell_type": "code",
   "execution_count": 55,
   "id": "5322b1ee-3af9-43c7-af92-11e0ace39402",
   "metadata": {},
   "outputs": [
    {
     "name": "stdout",
     "output_type": "stream",
     "text": [
      "imam\n",
      "md\n",
      "pwskills\n",
      "course\n"
     ]
    }
   ],
   "source": [
    "l1 = []\n",
    "for i in l:\n",
    "    print(i)\n",
    "    l1.append(i.upper())"
   ]
  },
  {
   "cell_type": "code",
   "execution_count": 56,
   "id": "c615705b-a800-4dbc-ac16-8b461d3867d1",
   "metadata": {},
   "outputs": [
    {
     "data": {
      "text/plain": [
       "['IMAM', 'MD', 'PWSKILLS', 'COURSE']"
      ]
     },
     "execution_count": 56,
     "metadata": {},
     "output_type": "execute_result"
    }
   ],
   "source": [
    "l1"
   ]
  },
  {
   "cell_type": "code",
   "execution_count": 58,
   "id": "4b6a03fd-1e0d-4fd5-ab36-9c35e66be407",
   "metadata": {},
   "outputs": [],
   "source": [
    "l = [1,2,3,4,4, \"imam\" , \"md\" , 324,34.456 , \"abs\"]"
   ]
  },
  {
   "cell_type": "code",
   "execution_count": 60,
   "id": "03015efd-def5-4cb7-9764-a756df5d08fd",
   "metadata": {},
   "outputs": [],
   "source": [
    "l1_num = []\n",
    "l2_str = []\n",
    "for i in l :\n",
    "    if type(i) == int or type(i) == float:\n",
    "        l1_num.append(i)\n",
    "    else:\n",
    "        l2_str.append(i)\n",
    "    "
   ]
  },
  {
   "cell_type": "code",
   "execution_count": 61,
   "id": "da9fc352-150a-4e27-a0af-72b79b6b1a4e",
   "metadata": {},
   "outputs": [
    {
     "data": {
      "text/plain": [
       "[1, 2, 3, 4, 4, 324, 34.456]"
      ]
     },
     "execution_count": 61,
     "metadata": {},
     "output_type": "execute_result"
    }
   ],
   "source": [
    "l1_num"
   ]
  },
  {
   "cell_type": "code",
   "execution_count": 62,
   "id": "0fb4406f-c0a6-4307-8ac5-933b94fb3bac",
   "metadata": {},
   "outputs": [
    {
     "data": {
      "text/plain": [
       "['imam', 'md', 'abs']"
      ]
     },
     "execution_count": 62,
     "metadata": {},
     "output_type": "execute_result"
    }
   ],
   "source": [
    "l2_str"
   ]
  },
  {
   "cell_type": "code",
   "execution_count": null,
   "id": "3d213fd9-02cc-47c2-a55d-80927aea074d",
   "metadata": {},
   "outputs": [],
   "source": []
  }
 ],
 "metadata": {
  "kernelspec": {
   "display_name": "Python 3 (ipykernel)",
   "language": "python",
   "name": "python3"
  },
  "language_info": {
   "codemirror_mode": {
    "name": "ipython",
    "version": 3
   },
   "file_extension": ".py",
   "mimetype": "text/x-python",
   "name": "python",
   "nbconvert_exporter": "python",
   "pygments_lexer": "ipython3",
   "version": "3.10.8"
  }
 },
 "nbformat": 4,
 "nbformat_minor": 5
}
