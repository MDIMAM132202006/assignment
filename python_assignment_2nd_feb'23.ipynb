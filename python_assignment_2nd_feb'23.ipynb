{
 "cells": [
  {
   "cell_type": "markdown",
   "id": "3d61ee52-ea02-4b6e-bfd1-39ab0c7f10d3",
   "metadata": {},
   "source": [
    "Q1. Explain with an example each when to use a for loop and a while loop?\n",
    "\n",
    "ans : \"for\" loop is used when the number of iteration is already knowwn.A \"while\" loop is used when the number of iterations is unknown.\n"
   ]
  },
  {
   "cell_type": "markdown",
   "id": "089f0a83-b43d-4520-8dd6-a578f3782439",
   "metadata": {},
   "source": [
    "Q2. Write a python program to print the sum and product of the first 10 natural numbers using for\n",
    "and while loop."
   ]
  },
  {
   "cell_type": "code",
   "execution_count": 12,
   "id": "51b71efe-db7f-431f-8ac5-be6bed06665e",
   "metadata": {},
   "outputs": [
    {
     "name": "stdout",
     "output_type": "stream",
     "text": [
      "sum of 10 natural number using for loop =  55\n",
      "sum of 10 natural number using while loop =  55\n",
      "product of 10 natural number using for loop =  3628800\n",
      "product of 10 natural number using while loop =  3628800\n"
     ]
    }
   ],
   "source": [
    "#sum of first ten natural number \n",
    "\n",
    "# using for loop\n",
    "sum = 0\n",
    "for i in range(1,11):\n",
    "    sum = sum + i\n",
    "    \n",
    "print(\"sum of 10 natural number using for loop = \",sum)\n",
    "\n",
    "# using while loop\n",
    "\n",
    "sum = 0 \n",
    "i = 0\n",
    "while(i<11):\n",
    "    sum = sum + i\n",
    "    i += 1\n",
    "    \n",
    "print(\"sum of 10 natural number using while loop = \",sum)\n",
    "   \n",
    "    \n",
    "# product of 10 natural number\n",
    "\n",
    "#using for loop\n",
    "product = 1\n",
    "for i in range(1,11):\n",
    "    product = product*i\n",
    "print(\"product of 10 natural number using for loop = \",product)\n",
    "\n",
    "\n",
    "# using while loop\n",
    "\n",
    "product = 1\n",
    "i = 1\n",
    "while(i<11):\n",
    "    product = product*i\n",
    "    i += 1\n",
    "print(\"product of 10 natural number using while loop = \",product)"
   ]
  },
  {
   "cell_type": "markdown",
   "id": "56b698f6-9900-4b22-82ba-25bc58c9b982",
   "metadata": {},
   "source": [
    "Q3. Create a python program to compute the electricity bill for a household.\n",
    "The per-unit charges in rupees are as follows: For the first 100 units, the user will be charged Rs. 4.5 per\n",
    "unit, for the next 100 units, the user will be charged Rs. 6 per unit, and for the next 100 units, the user will\n",
    "be charged Rs. 10 per unit, After 300 units and above the user will be charged Rs. 20 per unit.\n",
    "\n",
    "You are required to take the units of electricity consumed in a month from the user as input.\n",
    "\n",
    "Your program must pass this test case: when the unit of electricity consumed by the user in a month is\n",
    "310, the total electricity bill should be 2250."
   ]
  },
  {
   "cell_type": "code",
   "execution_count": 3,
   "id": "e0aac65f-0fca-4761-9d07-b40238d28cfb",
   "metadata": {},
   "outputs": [
    {
     "name": "stdin",
     "output_type": "stream",
     "text": [
      "enter the electricity consumed in amonth:  310\n"
     ]
    },
    {
     "name": "stdout",
     "output_type": "stream",
     "text": [
      "2250.0\n"
     ]
    }
   ],
   "source": [
    "n = int(input(\"enter the electricity consumed in amonth: \"))\n",
    "\n",
    "if n <= 100 :\n",
    "        total_amount = n*4.5\n",
    "        print(total_amount)\n",
    "elif 100<n<=200 :\n",
    "        total_amount = 100*4.5 + (n-100)*6 \n",
    "        print(total_amount)\n",
    "elif 200<n<=300 :\n",
    "        total_amount = 100*4.5 + 100*6 + (n-200)*10\n",
    "        print(total_amount)\n",
    "else :\n",
    "        total_amount = 100*4.5 + 100*6 + 100*10 + (n-300)*20\n",
    "        print(total_amount)\n",
    "        "
   ]
  },
  {
   "cell_type": "markdown",
   "id": "892a95e5-f027-490b-a6ca-39c23fee3602",
   "metadata": {},
   "source": [
    "Q4. Create a list of numbers from 1 to 100. Use for loop and while loop to calculate the cube of each\n",
    "number and if the cube of that number is divisible by 4 or 5 then append that number in a list and print\n",
    "that list."
   ]
  },
  {
   "cell_type": "code",
   "execution_count": 11,
   "id": "9ea4d8df-977c-4d51-b6d7-cb232f8106eb",
   "metadata": {},
   "outputs": [
    {
     "name": "stdout",
     "output_type": "stream",
     "text": [
      "[2, 4, 5, 6, 8, 10, 12, 14, 15, 16, 18, 20, 22, 24, 25, 26, 28, 30, 32, 34, 35, 36, 38, 40, 42, 44, 45, 46, 48, 50, 52, 54, 55, 56, 58, 60, 62, 64, 65, 66, 68, 70, 72, 74, 75, 76, 78, 80, 82, 84, 85, 86, 88, 90, 92, 94, 95, 96, 98, 100]\n"
     ]
    }
   ],
   "source": [
    "# using for loop \n",
    "l = []\n",
    "for i in range(1,101):\n",
    "    if (i**3) % 4 == 0 or (i**3) % 5 == 0 :\n",
    "        l.append(i)    \n",
    "print(l)\n"
   ]
  },
  {
   "cell_type": "markdown",
   "id": "f2c64d35-0870-4332-bd4b-08d0641bbda4",
   "metadata": {},
   "source": [
    "Q5. Write a program to filter count vowels in the below-given string.\n",
    "string = \"I want to become a data scientist\""
   ]
  },
  {
   "cell_type": "code",
   "execution_count": 20,
   "id": "3447437d-f333-484c-8c6c-6b6a454c976e",
   "metadata": {},
   "outputs": [
    {
     "ename": "AttributeError",
     "evalue": "'dict' object has no attribute 'add'",
     "output_type": "error",
     "traceback": [
      "\u001b[0;31m---------------------------------------------------------------------------\u001b[0m",
      "\u001b[0;31mAttributeError\u001b[0m                            Traceback (most recent call last)",
      "Cell \u001b[0;32mIn[20], line 8\u001b[0m\n\u001b[1;32m      6\u001b[0m     \u001b[38;5;28;01mfor\u001b[39;00m j \u001b[38;5;129;01min\u001b[39;00m \u001b[38;5;28mrange\u001b[39m(\u001b[38;5;241m0\u001b[39m,\u001b[38;5;28mlen\u001b[39m(s)) :\n\u001b[1;32m      7\u001b[0m         \u001b[38;5;28;01mif\u001b[39;00m v[i] \u001b[38;5;241m==\u001b[39m s[j]:\n\u001b[0;32m----> 8\u001b[0m             \u001b[43mS\u001b[49m\u001b[38;5;241;43m.\u001b[39;49m\u001b[43madd\u001b[49m(s[j])\n\u001b[1;32m     11\u001b[0m \u001b[38;5;28mprint\u001b[39m(S)\n",
      "\u001b[0;31mAttributeError\u001b[0m: 'dict' object has no attribute 'add'"
     ]
    }
   ],
   "source": [
    "v = ['a','e','i','o','u']\n",
    "s = 'I want to become a data scientist'\n",
    "S = {}\n",
    "count = 0\n",
    "for i in range(0,len(v)):\n",
    "    for j in range(0,len(s)) :\n",
    "        if v[i] == s[j]:\n",
    "            S.add(s[j])\n",
    "            \n",
    "\n",
    "print(S)\n",
    "    \n"
   ]
  },
  {
   "cell_type": "code",
   "execution_count": null,
   "id": "930a3a9e-c142-40a2-8824-1762fbb76ff0",
   "metadata": {},
   "outputs": [],
   "source": []
  }
 ],
 "metadata": {
  "kernelspec": {
   "display_name": "Python 3 (ipykernel)",
   "language": "python",
   "name": "python3"
  },
  "language_info": {
   "codemirror_mode": {
    "name": "ipython",
    "version": 3
   },
   "file_extension": ".py",
   "mimetype": "text/x-python",
   "name": "python",
   "nbconvert_exporter": "python",
   "pygments_lexer": "ipython3",
   "version": "3.10.8"
  }
 },
 "nbformat": 4,
 "nbformat_minor": 5
}
