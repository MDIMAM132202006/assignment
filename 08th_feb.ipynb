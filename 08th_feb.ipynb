{
 "cells": [
  {
   "cell_type": "markdown",
   "id": "f88fe787-c277-40a6-a670-29238a4cb6af",
   "metadata": {},
   "source": [
    "Q1. What is Abstraction in OOps? Explain with an example.\n",
    "\n",
    "ans:An abstract method is a method that has a declaration but does not have an implementation. While we are designing large functional units we use an abstract class. When we want to provide a common interface for different implementations of a component, we use an abstract class. "
   ]
  },
  {
   "cell_type": "code",
   "execution_count": 2,
   "id": "a078acd3-7f3b-4d6c-bece-898c9c43131e",
   "metadata": {},
   "outputs": [
    {
     "name": "stdout",
     "output_type": "stream",
     "text": [
      "I can walk and run\n",
      "I can crawl\n"
     ]
    }
   ],
   "source": [
    "import abc\n",
    "class Animal():\n",
    "\n",
    "\tdef move(self):\n",
    "\t\tpass\n",
    "\n",
    "class Human(Animal):\n",
    "\n",
    "\tdef move(self):\n",
    "\t\tprint(\"I can walk and run\")\n",
    "\n",
    "class Snake(Animal):\n",
    "\n",
    "\tdef move(self):\n",
    "\t\tprint(\"I can crawl\")\n",
    "        \n",
    "R = Human()\n",
    "R.move()\n",
    "\n",
    "K = Snake()\n",
    "K.move()"
   ]
  },
  {
   "cell_type": "markdown",
   "id": "794dd6f5-1881-4b71-92c2-0bddeb134828",
   "metadata": {},
   "source": [
    "Q2. Differentiate between Abstraction and Encapsulation. Explain with an example."
   ]
  },
  {
   "cell_type": "markdown",
   "id": "57d09f44-029d-4837-9bff-f6417759c9df",
   "metadata": {},
   "source": [
    "Abstraction:\n",
    "Abstraction focuses on hiding the complex implementation details and showing only the essential features of an object. It simplifies reality by modeling objects in a way that emphasizes what an object does rather than how it does it. Abstraction involves creating abstract classes and methods that serve as templates for concrete subclasses.\n",
    "\n",
    "Encapsulation:\n",
    "Encapsulation is the practice of bundling data (attributes) and the methods (functions) that operate on the data into a single unit, known as a class. It restricts direct access to the internal state of an object and enforces access through well-defined interfaces (methods). Encapsulation helps in maintaining data integrity and preventing unauthorized modifications."
   ]
  },
  {
   "cell_type": "code",
   "execution_count": 5,
   "id": "777a6dba-a4d6-4e94-ad4f-b6de76c695e9",
   "metadata": {},
   "outputs": [
    {
     "data": {
      "text/plain": [
       "'pwskills'"
      ]
     },
     "execution_count": 5,
     "metadata": {},
     "output_type": "execute_result"
    }
   ],
   "source": [
    "class Base:\n",
    "\tdef __init__(self):\n",
    "\t\tself.a = \"pwskills\"\n",
    "\t\tself.__c = \"datascience\"\n",
    "\n",
    "class Derived(Base):\n",
    "\tdef __init__(self):\n",
    "\n",
    "\t\tBase.__init__(self)\n",
    "\t\tprint(\"Calling private member of base class: \")\n",
    "\t\tprint(self.__c)\n",
    "\n",
    "obj1 = Base()\n",
    "obj1.a"
   ]
  },
  {
   "cell_type": "markdown",
   "id": "a9c8cec4-a858-408b-b3d1-919fe03c1e28",
   "metadata": {},
   "source": [
    "Q3. What is abc module in python? Why is it used?\n",
    "\n",
    "ans : The abc module in Python stands for \"Abstract Base Classes.\" It provides a way to work with abstract classes and interfaces in Python, allowing you to define abstract methods that must be implemented by subclasses."
   ]
  },
  {
   "cell_type": "markdown",
   "id": "49d2e55f-e900-4389-a691-056be8567498",
   "metadata": {},
   "source": [
    "Q4. How can we achieve data abstraction?\n",
    "\n",
    "ans : Data abstraction in programming refers to the concept of presenting only the essential and relevant information to the user while hiding the underlying implementation details. It's a way to manage complexity by exposing a simplified interface and encapsulating the underlying data structures and operations."
   ]
  },
  {
   "cell_type": "markdown",
   "id": "e38ad3af-7b68-4dd6-b3ad-5506d0a6d685",
   "metadata": {},
   "source": [
    "Q5. Can we create an instance of an abstract class? Explain your answer.\n",
    "\n",
    "ans : No, you cannot create an instance of an abstract class in most programming languages, including Python. An abstract class is meant to be a blueprint for other classes and is incomplete on its own because it contains one or more abstract methods that have no implementation in the abstract class itself. Abstract methods are meant to be overridden by concrete subclasses."
   ]
  },
  {
   "cell_type": "code",
   "execution_count": null,
   "id": "b3f9ac6b-6516-4a8f-8f95-1bbb7f1b4747",
   "metadata": {},
   "outputs": [],
   "source": []
  }
 ],
 "metadata": {
  "kernelspec": {
   "display_name": "Python 3 (ipykernel)",
   "language": "python",
   "name": "python3"
  },
  "language_info": {
   "codemirror_mode": {
    "name": "ipython",
    "version": 3
   },
   "file_extension": ".py",
   "mimetype": "text/x-python",
   "name": "python",
   "nbconvert_exporter": "python",
   "pygments_lexer": "ipython3",
   "version": "3.10.8"
  }
 },
 "nbformat": 4,
 "nbformat_minor": 5
}
