{
 "cells": [
  {
   "cell_type": "markdown",
   "id": "b21e4aa3-8cf2-441b-9e09-81cf96cc9cf9",
   "metadata": {},
   "source": [
    "Q1. Explain Class and Object with respect to Object-Oriented Programming. Give a suitable example."
   ]
  },
  {
   "cell_type": "markdown",
   "id": "ccecbc5f-4c39-4a3e-a724-612eea2f328f",
   "metadata": {},
   "source": [
    "Class:\n",
    "A class is a blueprint or a template that defines the common characteristics and behaviors of a group of objects. It serves as a blueprint for creating objects, encapsulating data (attributes) and methods (functions) that define the behavior of those objects. Think of a class as a design that outlines what an object of that class will look like and how it will behave.\n",
    "\n",
    "Object:\n",
    "An object is an instance of a class, created based on the blueprint provided by the class. It represents a specific entity with its unique state and behavior. When an object is created, it inherits the attributes and methods defined in its class."
   ]
  },
  {
   "cell_type": "code",
   "execution_count": 18,
   "id": "414ecad8-d054-452b-9929-1ab188da1ea5",
   "metadata": {},
   "outputs": [
    {
     "name": "stdout",
     "output_type": "stream",
     "text": [
      "Employee ID: 132202006\n",
      "Employee ID: 102202006\n"
     ]
    }
   ],
   "source": [
    "class Employee:\n",
    "    employee_id = 0\n",
    "    \n",
    "employee1 = Employee()\n",
    "employee2 = Employee()\n",
    "\n",
    "employee1.employeeID = 132202006\n",
    "print(f\"Employee ID: {employee1.employeeID}\")\n",
    "\n",
    "employee2.employeeID = 102202006\n",
    "print(f\"Employee ID: {employee2.employeeID}\")"
   ]
  },
  {
   "cell_type": "markdown",
   "id": "8a0c7c58-bf31-4130-86ce-463332634f28",
   "metadata": {},
   "source": [
    "Q2. Name the four pillars of OOPs.\n",
    "\n",
    "ans: Encapsulation , Abstraction , Polymorphism , Inheritance"
   ]
  },
  {
   "cell_type": "markdown",
   "id": "8fb5841a-0b9b-40ee-ad7c-c78c87490bbe",
   "metadata": {},
   "source": [
    "Q3. Explain why the __init__() function is used. Give a suitable example.\n",
    "\n",
    "ans: In Python, the __init__ function (also known as a constructor) is a special method used in classes. It is automatically called when an object of the class is created. The primary purpose of the __init__ method is to initialize the attributes of the object, setting up its initial state."
   ]
  },
  {
   "cell_type": "code",
   "execution_count": 19,
   "id": "2259ab56-af4d-450a-b1f1-5fd98457dcd3",
   "metadata": {},
   "outputs": [
    {
     "name": "stdout",
     "output_type": "stream",
     "text": [
      "My name is imam and I am 25 years old.\n"
     ]
    }
   ],
   "source": [
    "class Person:\n",
    "    def __init__(self, name, age):\n",
    "       \n",
    "        self.name = name\n",
    "        self.age = age\n",
    "\n",
    "    def introduce(self):\n",
    "        print(f\"My name is {self.name} and I am {self.age} years old.\")\n",
    "\n",
    "person1 = Person(\"imam\", 25)\n",
    "\n",
    "person1.introduce()  \n"
   ]
  },
  {
   "cell_type": "markdown",
   "id": "72c601f8-ddae-4564-afbc-28b83e578aaa",
   "metadata": {},
   "source": [
    "Q4. Why self is used in OOPs?\n",
    "\n",
    "ans: self is a special parameter that is used to refer to the instance of a class within the class's methods. It acts as a reference to the object itself, allowing the methods to access and manipulate the object's attributes and call other methods of the same class."
   ]
  },
  {
   "cell_type": "markdown",
   "id": "2100f165-04a1-42da-9af3-3fe54add3c5d",
   "metadata": {},
   "source": [
    "Q5. What is inheritance? Give an example for each type of inheritance.\n",
    "\n",
    "ans: Inheritance allows a class to inherit attributes and methods from another class. The class that inherits from another class is called the derived class or subclass, and the class from which it inherits is called the base class or superclass. Inheritance promotes code reuse and facilitates the creation of a hierarchy of classes with specialized features.\n",
    "\n",
    "a) Single Inheritance:\n",
    "Single inheritance is the simplest form of inheritance, where a class inherits from only one base class. The derived class inherits all the attributes and methods of the base class.\n",
    "\n",
    "b) Multiple Inheritance:\n",
    "Multiple inheritance occurs when a class inherits from two or more base classes. The derived class inherits attributes and methods from all the base classes.\n",
    "\n"
   ]
  },
  {
   "cell_type": "code",
   "execution_count": null,
   "id": "bffe7a62-f945-4159-a7f5-29c63f4b5df7",
   "metadata": {},
   "outputs": [],
   "source": []
  }
 ],
 "metadata": {
  "kernelspec": {
   "display_name": "Python 3 (ipykernel)",
   "language": "python",
   "name": "python3"
  },
  "language_info": {
   "codemirror_mode": {
    "name": "ipython",
    "version": 3
   },
   "file_extension": ".py",
   "mimetype": "text/x-python",
   "name": "python",
   "nbconvert_exporter": "python",
   "pygments_lexer": "ipython3",
   "version": "3.10.8"
  }
 },
 "nbformat": 4,
 "nbformat_minor": 5
}
